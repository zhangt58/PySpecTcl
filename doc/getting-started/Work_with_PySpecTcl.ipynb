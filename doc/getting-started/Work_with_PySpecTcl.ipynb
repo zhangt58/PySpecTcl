{
 "cells": [
  {
   "cell_type": "markdown",
   "metadata": {
    "slideshow": {
     "slide_type": "slide"
    }
   },
   "source": [
    "# Work with PySpecTcl\n",
    "This notebook demonstrates:\n",
    "\n",
    "* How to reach the spectra data through SpecTcl server, and do the data analysis.\n",
    "* Work with Spectrum class to get spectral info, interface to other HLA.\n",
    "* Data from multiple SpecTcl servers could be integrated into the same analysis environment.\n",
    "* Work with other Python packages.\n",
    "\n",
    "Author: Tong Zhang\n",
    "\n",
    "Created: 2021-06-04, Last updatd: 2022-09-01\n"
   ]
  },
  {
   "cell_type": "markdown",
   "metadata": {
    "slideshow": {
     "slide_type": "slide"
    }
   },
   "source": [
    "## Preparation of SpecTcl server(s)\n",
    "\n",
    "Start up the SpecTcl instance on any workstation in DAQ network, keep in mind of the workstation hostname and REST server port number, which is defined in SpecTclInit.tcl file and printed out in the tkcon as Spectcl is starting up.\n",
    "\n",
    "See Also: [https://wikihost.nscl.msu.edu/AcceleratorPhysics/doku.php?id=apps:pyspectcl#how_does_it_work](https://wikihost.nscl.msu.edu/AcceleratorPhysics/doku.php?id=apps:pyspectcl#how_does_it_work)"
   ]
  },
  {
   "cell_type": "markdown",
   "metadata": {
    "slideshow": {
     "slide_type": "slide"
    }
   },
   "source": [
    "### What is **PySpecTcl**\n",
    "The project **pyspectcl** was created to handle all the data communication between Python client (local) and SpecTcl server (remote).\n",
    "\n",
    "* Request data from remote\n",
    "* Data normalization and integration\n",
    "* Spectrum class for introspection\n",
    "* Common API for data pre-processing\n",
    "\n",
    "### How to install\n",
    "```bash\n",
    "pip install pyspectcl\n",
    "```\n",
    "\n",
    "See Also: [https://wikihost.nscl.msu.edu/AcceleratorPhysics/doku.php?id=apps:pyspectcl#how_to_use_it](https://wikihost.nscl.msu.edu/AcceleratorPhysics/doku.php?id=apps:pyspectcl#how_to_use_it)"
   ]
  },
  {
   "cell_type": "code",
   "execution_count": 1,
   "metadata": {
    "slideshow": {
     "slide_type": "fragment"
    }
   },
   "outputs": [
    {
     "name": "stdout",
     "output_type": "stream",
     "text": [
      "PySpecTcl (v0.4.1): Python interface to SpecTcl REST server.\n",
      "Contact: Tong Zhang <zhangt@frib.msu.edu>\n"
     ]
    }
   ],
   "source": [
    "import spectcl\n",
    "spectcl.info()"
   ]
  },
  {
   "cell_type": "markdown",
   "metadata": {
    "slideshow": {
     "slide_type": "slide"
    }
   },
   "source": [
    "### Set up a client to SpecTcl server "
   ]
  },
  {
   "cell_type": "code",
   "execution_count": 2,
   "metadata": {
    "slideshow": {
     "slide_type": "fragment"
    }
   },
   "outputs": [],
   "source": [
    "from spectcl.client import Client\n",
    "client = Client('http://ctlrm-daq4', port=5400)"
   ]
  },
  {
   "cell_type": "code",
   "execution_count": 3,
   "metadata": {
    "slideshow": {
     "slide_type": "fragment"
    }
   },
   "outputs": [
    {
     "data": {
      "text/plain": [
       "[SpecTcl Client] to http://ctlrm-daq4:5400/spectcl"
      ]
     },
     "execution_count": 3,
     "metadata": {},
     "output_type": "execute_result"
    }
   ],
   "source": [
    "client"
   ]
  },
  {
   "cell_type": "code",
   "execution_count": 4,
   "metadata": {
    "slideshow": {
     "slide_type": "fragment"
    }
   },
   "outputs": [
    {
     "data": {
      "text/plain": [
       "[SpecTcl Client] to http://127.0.0.1:8001/spectcl"
      ]
     },
     "execution_count": 4,
     "metadata": {},
     "output_type": "execute_result"
    }
   ],
   "source": [
    "# But could be re-configured\n",
    "client.base_url = \"http://127.0.0.1\"\n",
    "client.port = 8001\n",
    "client"
   ]
  },
  {
   "cell_type": "code",
   "execution_count": 5,
   "metadata": {
    "slideshow": {
     "slide_type": "fragment"
    }
   },
   "outputs": [
    {
     "data": {
      "text/plain": [
       "[SpecTcl Client] to http://ctlrm-daq4:5400/spectcl"
      ]
     },
     "execution_count": 5,
     "metadata": {},
     "output_type": "execute_result"
    }
   ],
   "source": [
    "# Switch back base_url and port\n",
    "client.base_url = 'http://ctlrm-daq4'\n",
    "client.port = 5400\n",
    "client"
   ]
  },
  {
   "cell_type": "markdown",
   "metadata": {
    "slideshow": {
     "slide_type": "subslide"
    }
   },
   "source": [
    "### List all spectra\n",
    "\n",
    "All spectra are packed into a table, with correlated gate info integrated."
   ]
  },
  {
   "cell_type": "code",
   "execution_count": 6,
   "metadata": {
    "slideshow": {
     "slide_type": "fragment"
    }
   },
   "outputs": [
    {
     "data": {
      "text/html": [
       "<div>\n",
       "<style scoped>\n",
       "    .dataframe tbody tr th:only-of-type {\n",
       "        vertical-align: middle;\n",
       "    }\n",
       "\n",
       "    .dataframe tbody tr th {\n",
       "        vertical-align: top;\n",
       "    }\n",
       "\n",
       "    .dataframe thead th {\n",
       "        text-align: right;\n",
       "    }\n",
       "</style>\n",
       "<table border=\"1\" class=\"dataframe\">\n",
       "  <thead>\n",
       "    <tr style=\"text-align: right;\">\n",
       "      <th></th>\n",
       "      <th>Type</th>\n",
       "      <th>Parameters</th>\n",
       "      <th>Axes</th>\n",
       "      <th>ChanType</th>\n",
       "      <th>Gate</th>\n",
       "      <th>ShowGate</th>\n",
       "    </tr>\n",
       "    <tr>\n",
       "      <th>Name</th>\n",
       "      <th></th>\n",
       "      <th></th>\n",
       "      <th></th>\n",
       "      <th></th>\n",
       "      <th></th>\n",
       "      <th></th>\n",
       "    </tr>\n",
       "  </thead>\n",
       "  <tbody>\n",
       "    <tr>\n",
       "      <th>Dip::Dip34.brho</th>\n",
       "      <td>1</td>\n",
       "      <td>[aris.Dip34.brho]</td>\n",
       "      <td>[{'low': 0.0, 'high': 10.0, 'bins': 1000}]</td>\n",
       "      <td>long</td>\n",
       "      <td>ungated</td>\n",
       "      <td>NaN</td>\n",
       "    </tr>\n",
       "    <tr>\n",
       "      <th>Dip::Dip34.deltaP</th>\n",
       "      <td>1</td>\n",
       "      <td>[aris.Dip34.deltaP]</td>\n",
       "      <td>[{'low': -0.1, 'high': 0.1, 'bins': 5000}]</td>\n",
       "      <td>long</td>\n",
       "      <td>ungated</td>\n",
       "      <td>NaN</td>\n",
       "    </tr>\n",
       "    <tr>\n",
       "      <th>Dip::Dip34.deltaP_vs_Dip45.deltaP</th>\n",
       "      <td>2</td>\n",
       "      <td>[aris.Dip34.deltaP, aris.Dip45.deltaP]</td>\n",
       "      <td>[{'low': -0.1, 'high': 0.1, 'bins': 500}, {'lo...</td>\n",
       "      <td>long</td>\n",
       "      <td>ungated</td>\n",
       "      <td>NaN</td>\n",
       "    </tr>\n",
       "    <tr>\n",
       "      <th>Dip::Dip34.deltaP_vs_TKE</th>\n",
       "      <td>2</td>\n",
       "      <td>[aris.Dip34.deltaP, aris.pid.TKE]</td>\n",
       "      <td>[{'low': -0.025, 'high': 0.025, 'bins': 700}, ...</td>\n",
       "      <td>long</td>\n",
       "      <td>ungated</td>\n",
       "      <td>NaN</td>\n",
       "    </tr>\n",
       "    <tr>\n",
       "      <th>Dip::Dip34.xf</th>\n",
       "      <td>1</td>\n",
       "      <td>[aris.Dip34.xf]</td>\n",
       "      <td>[{'low': -100.0, 'high': 100.0, 'bins': 1000}]</td>\n",
       "      <td>long</td>\n",
       "      <td>ungated</td>\n",
       "      <td>NaN</td>\n",
       "    </tr>\n",
       "    <tr>\n",
       "      <th>...</th>\n",
       "      <td>...</td>\n",
       "      <td>...</td>\n",
       "      <td>...</td>\n",
       "      <td>...</td>\n",
       "      <td>...</td>\n",
       "      <td>...</td>\n",
       "    </tr>\n",
       "    <tr>\n",
       "      <th>trk::db5.x_vs_pid.x</th>\n",
       "      <td>2</td>\n",
       "      <td>[aris.pid.x, aris.db5.x]</td>\n",
       "      <td>[{'low': -125.0, 'high': 125.0, 'bins': 500}, ...</td>\n",
       "      <td>word</td>\n",
       "      <td>ungated</td>\n",
       "      <td>NaN</td>\n",
       "    </tr>\n",
       "    <tr>\n",
       "      <th>trk::db5.xt</th>\n",
       "      <td>s</td>\n",
       "      <td>[aris.db5.xt.000, aris.db5.xt.001, aris.db5.xt...</td>\n",
       "      <td>[{'low': -75.0, 'high': 75.0, 'bins': 600}]</td>\n",
       "      <td>long</td>\n",
       "      <td>db5_ppac01_sum</td>\n",
       "      <td>NaN</td>\n",
       "    </tr>\n",
       "    <tr>\n",
       "      <th>trk::db5.y</th>\n",
       "      <td>1</td>\n",
       "      <td>[aris.db5.y]</td>\n",
       "      <td>[{'low': -75.0, 'high': 75.0, 'bins': 6000}]</td>\n",
       "      <td>long</td>\n",
       "      <td>db5_ppac01_sum</td>\n",
       "      <td>NaN</td>\n",
       "    </tr>\n",
       "    <tr>\n",
       "      <th>trk::db5.y_vs_x</th>\n",
       "      <td>2</td>\n",
       "      <td>[aris.db5.x, aris.db5.y]</td>\n",
       "      <td>[{'low': -75.0, 'high': 75.0, 'bins': 300}, {'...</td>\n",
       "      <td>long</td>\n",
       "      <td>db5_ppac01_sum</td>\n",
       "      <td>NaN</td>\n",
       "    </tr>\n",
       "    <tr>\n",
       "      <th>trk::db5.yt</th>\n",
       "      <td>s</td>\n",
       "      <td>[aris.db5.yt.000, aris.db5.yt.001, aris.db5.yt...</td>\n",
       "      <td>[{'low': -75.0, 'high': 75.0, 'bins': 600}]</td>\n",
       "      <td>long</td>\n",
       "      <td>db5_ppac01_sum</td>\n",
       "      <td>NaN</td>\n",
       "    </tr>\n",
       "  </tbody>\n",
       "</table>\n",
       "<p>344 rows × 6 columns</p>\n",
       "</div>"
      ],
      "text/plain": [
       "                                  Type  \\\n",
       "Name                                     \n",
       "Dip::Dip34.brho                      1   \n",
       "Dip::Dip34.deltaP                    1   \n",
       "Dip::Dip34.deltaP_vs_Dip45.deltaP    2   \n",
       "Dip::Dip34.deltaP_vs_TKE             2   \n",
       "Dip::Dip34.xf                        1   \n",
       "...                                ...   \n",
       "trk::db5.x_vs_pid.x                  2   \n",
       "trk::db5.xt                          s   \n",
       "trk::db5.y                           1   \n",
       "trk::db5.y_vs_x                      2   \n",
       "trk::db5.yt                          s   \n",
       "\n",
       "                                                                          Parameters  \\\n",
       "Name                                                                                   \n",
       "Dip::Dip34.brho                                                    [aris.Dip34.brho]   \n",
       "Dip::Dip34.deltaP                                                [aris.Dip34.deltaP]   \n",
       "Dip::Dip34.deltaP_vs_Dip45.deltaP             [aris.Dip34.deltaP, aris.Dip45.deltaP]   \n",
       "Dip::Dip34.deltaP_vs_TKE                           [aris.Dip34.deltaP, aris.pid.TKE]   \n",
       "Dip::Dip34.xf                                                        [aris.Dip34.xf]   \n",
       "...                                                                              ...   \n",
       "trk::db5.x_vs_pid.x                                         [aris.pid.x, aris.db5.x]   \n",
       "trk::db5.xt                        [aris.db5.xt.000, aris.db5.xt.001, aris.db5.xt...   \n",
       "trk::db5.y                                                              [aris.db5.y]   \n",
       "trk::db5.y_vs_x                                             [aris.db5.x, aris.db5.y]   \n",
       "trk::db5.yt                        [aris.db5.yt.000, aris.db5.yt.001, aris.db5.yt...   \n",
       "\n",
       "                                                                                Axes  \\\n",
       "Name                                                                                   \n",
       "Dip::Dip34.brho                           [{'low': 0.0, 'high': 10.0, 'bins': 1000}]   \n",
       "Dip::Dip34.deltaP                         [{'low': -0.1, 'high': 0.1, 'bins': 5000}]   \n",
       "Dip::Dip34.deltaP_vs_Dip45.deltaP  [{'low': -0.1, 'high': 0.1, 'bins': 500}, {'lo...   \n",
       "Dip::Dip34.deltaP_vs_TKE           [{'low': -0.025, 'high': 0.025, 'bins': 700}, ...   \n",
       "Dip::Dip34.xf                         [{'low': -100.0, 'high': 100.0, 'bins': 1000}]   \n",
       "...                                                                              ...   \n",
       "trk::db5.x_vs_pid.x                [{'low': -125.0, 'high': 125.0, 'bins': 500}, ...   \n",
       "trk::db5.xt                              [{'low': -75.0, 'high': 75.0, 'bins': 600}]   \n",
       "trk::db5.y                              [{'low': -75.0, 'high': 75.0, 'bins': 6000}]   \n",
       "trk::db5.y_vs_x                    [{'low': -75.0, 'high': 75.0, 'bins': 300}, {'...   \n",
       "trk::db5.yt                              [{'low': -75.0, 'high': 75.0, 'bins': 600}]   \n",
       "\n",
       "                                  ChanType            Gate ShowGate  \n",
       "Name                                                                 \n",
       "Dip::Dip34.brho                       long         ungated      NaN  \n",
       "Dip::Dip34.deltaP                     long         ungated      NaN  \n",
       "Dip::Dip34.deltaP_vs_Dip45.deltaP     long         ungated      NaN  \n",
       "Dip::Dip34.deltaP_vs_TKE              long         ungated      NaN  \n",
       "Dip::Dip34.xf                         long         ungated      NaN  \n",
       "...                                    ...             ...      ...  \n",
       "trk::db5.x_vs_pid.x                   word         ungated      NaN  \n",
       "trk::db5.xt                           long  db5_ppac01_sum      NaN  \n",
       "trk::db5.y                            long  db5_ppac01_sum      NaN  \n",
       "trk::db5.y_vs_x                       long  db5_ppac01_sum      NaN  \n",
       "trk::db5.yt                           long  db5_ppac01_sum      NaN  \n",
       "\n",
       "[344 rows x 6 columns]"
      ]
     },
     "execution_count": 6,
     "metadata": {},
     "output_type": "execute_result"
    }
   ],
   "source": [
    "client.list('spectrum')"
   ]
  },
  {
   "cell_type": "markdown",
   "metadata": {
    "slideshow": {
     "slide_type": "subslide"
    }
   },
   "source": [
    "### List all Gates\n",
    "\n",
    "All gates could also be listed as a table, by default, only list the ones with valid Parameters/Gates definitions."
   ]
  },
  {
   "cell_type": "code",
   "execution_count": 7,
   "metadata": {
    "slideshow": {
     "slide_type": "fragment"
    }
   },
   "outputs": [
    {
     "data": {
      "text/html": [
       "<div>\n",
       "<style scoped>\n",
       "    .dataframe tbody tr th:only-of-type {\n",
       "        vertical-align: middle;\n",
       "    }\n",
       "\n",
       "    .dataframe tbody tr th {\n",
       "        vertical-align: top;\n",
       "    }\n",
       "\n",
       "    .dataframe thead th {\n",
       "        text-align: right;\n",
       "    }\n",
       "</style>\n",
       "<table border=\"1\" class=\"dataframe\">\n",
       "  <thead>\n",
       "    <tr style=\"text-align: right;\">\n",
       "      <th></th>\n",
       "      <th>Type</th>\n",
       "      <th>Gates</th>\n",
       "      <th>Parameters</th>\n",
       "      <th>Points</th>\n",
       "      <th>Desc</th>\n",
       "    </tr>\n",
       "    <tr>\n",
       "      <th>Name</th>\n",
       "      <th></th>\n",
       "      <th></th>\n",
       "      <th></th>\n",
       "      <th></th>\n",
       "      <th></th>\n",
       "    </tr>\n",
       "  </thead>\n",
       "  <tbody>\n",
       "    <tr>\n",
       "      <th>db1_ppac01_sum</th>\n",
       "      <td>*</td>\n",
       "      <td>[db1_ppac0_sum, db1_ppac1_sum]</td>\n",
       "      <td>NaN</td>\n",
       "      <td>NaN</td>\n",
       "      <td>And</td>\n",
       "    </tr>\n",
       "    <tr>\n",
       "      <th>db1_ppac01_sum_foi</th>\n",
       "      <td>*</td>\n",
       "      <td>[db1_ppac01_sum, foi]</td>\n",
       "      <td>NaN</td>\n",
       "      <td>NaN</td>\n",
       "      <td>And</td>\n",
       "    </tr>\n",
       "    <tr>\n",
       "      <th>db1_ppac0_sum</th>\n",
       "      <td>c</td>\n",
       "      <td>NaN</td>\n",
       "      <td>[aris.db1.ppac0.sumyc, aris.db1.ppac0.sumxc]</td>\n",
       "      <td>[{'x': 2739.043945, 'y': 2697.76123}, {'x': 39...</td>\n",
       "      <td>Contour</td>\n",
       "    </tr>\n",
       "    <tr>\n",
       "      <th>db1_ppac1_sum</th>\n",
       "      <td>c</td>\n",
       "      <td>NaN</td>\n",
       "      <td>[aris.db1.ppac1.sumyc, aris.db1.ppac1.sumxc]</td>\n",
       "      <td>[{'x': 3947.068848, 'y': 3915.422852}, {'x': 3...</td>\n",
       "      <td>Contour</td>\n",
       "    </tr>\n",
       "    <tr>\n",
       "      <th>db3_ppac01_sum</th>\n",
       "      <td>*</td>\n",
       "      <td>[db3_ppac0_sum, db3_ppac1_sum]</td>\n",
       "      <td>NaN</td>\n",
       "      <td>NaN</td>\n",
       "      <td>And</td>\n",
       "    </tr>\n",
       "    <tr>\n",
       "      <th>db3_ppac01_sum_foi</th>\n",
       "      <td>*</td>\n",
       "      <td>[db3_ppac01_sum, foi]</td>\n",
       "      <td>NaN</td>\n",
       "      <td>NaN</td>\n",
       "      <td>And</td>\n",
       "    </tr>\n",
       "    <tr>\n",
       "      <th>db3_ppac0_sum</th>\n",
       "      <td>c</td>\n",
       "      <td>NaN</td>\n",
       "      <td>[aris.db3.ppac0.sumyc, aris.db3.ppac0.sumxc]</td>\n",
       "      <td>[{'x': 3948.776367, 'y': 3957.711426}, {'x': 3...</td>\n",
       "      <td>Contour</td>\n",
       "    </tr>\n",
       "    <tr>\n",
       "      <th>db3_ppac1_sum</th>\n",
       "      <td>c</td>\n",
       "      <td>NaN</td>\n",
       "      <td>[aris.db3.ppac1.sumyc, aris.db3.ppac1.sumxc]</td>\n",
       "      <td>[{'x': 3917.188477, 'y': 3990.049805}, {'x': 2...</td>\n",
       "      <td>Contour</td>\n",
       "    </tr>\n",
       "    <tr>\n",
       "      <th>db4_ppac0_sum</th>\n",
       "      <td>c</td>\n",
       "      <td>NaN</td>\n",
       "      <td>[aris.db4.ppac0.sumyc, aris.db4.ppac0.sumxc]</td>\n",
       "      <td>[{'x': 3903.80249, 'y': 3966.417969}, {'x': 38...</td>\n",
       "      <td>Contour</td>\n",
       "    </tr>\n",
       "    <tr>\n",
       "      <th>db4_ppac0_sum_foi</th>\n",
       "      <td>*</td>\n",
       "      <td>[db4_ppac0_sum, foi]</td>\n",
       "      <td>NaN</td>\n",
       "      <td>NaN</td>\n",
       "      <td>And</td>\n",
       "    </tr>\n",
       "    <tr>\n",
       "      <th>db5_ppac01_sum</th>\n",
       "      <td>*</td>\n",
       "      <td>[db5_ppac0_sum, db5_ppac1_sum]</td>\n",
       "      <td>NaN</td>\n",
       "      <td>NaN</td>\n",
       "      <td>And</td>\n",
       "    </tr>\n",
       "    <tr>\n",
       "      <th>db5_ppac01_sum_foi</th>\n",
       "      <td>*</td>\n",
       "      <td>[db5_ppac01_sum, foi]</td>\n",
       "      <td>NaN</td>\n",
       "      <td>NaN</td>\n",
       "      <td>And</td>\n",
       "    </tr>\n",
       "    <tr>\n",
       "      <th>db5_ppac0_sum</th>\n",
       "      <td>c</td>\n",
       "      <td>NaN</td>\n",
       "      <td>[aris.db5.ppac0.sumyc, aris.db5.ppac0.sumxc]</td>\n",
       "      <td>[{'x': 2572.288574, 'y': 2591.942871}, {'x': 3...</td>\n",
       "      <td>Contour</td>\n",
       "    </tr>\n",
       "    <tr>\n",
       "      <th>db5_ppac1_sum</th>\n",
       "      <td>c</td>\n",
       "      <td>NaN</td>\n",
       "      <td>[aris.db5.ppac1.sumyc, aris.db5.ppac1.sumxc]</td>\n",
       "      <td>[{'x': 2671.169189, 'y': 2684.110107}, {'x': 2...</td>\n",
       "      <td>Contour</td>\n",
       "    </tr>\n",
       "    <tr>\n",
       "      <th>foi</th>\n",
       "      <td>c</td>\n",
       "      <td>NaN</td>\n",
       "      <td>[aris.tof.tac.rf1, aris.db1.pin.e]</td>\n",
       "      <td>[{'x': 2301.09082, 'y': 2253.332275}, {'x': 22...</td>\n",
       "      <td>Contour</td>\n",
       "    </tr>\n",
       "  </tbody>\n",
       "</table>\n",
       "</div>"
      ],
      "text/plain": [
       "                   Type                           Gates  \\\n",
       "Name                                                      \n",
       "db1_ppac01_sum        *  [db1_ppac0_sum, db1_ppac1_sum]   \n",
       "db1_ppac01_sum_foi    *           [db1_ppac01_sum, foi]   \n",
       "db1_ppac0_sum         c                             NaN   \n",
       "db1_ppac1_sum         c                             NaN   \n",
       "db3_ppac01_sum        *  [db3_ppac0_sum, db3_ppac1_sum]   \n",
       "db3_ppac01_sum_foi    *           [db3_ppac01_sum, foi]   \n",
       "db3_ppac0_sum         c                             NaN   \n",
       "db3_ppac1_sum         c                             NaN   \n",
       "db4_ppac0_sum         c                             NaN   \n",
       "db4_ppac0_sum_foi     *            [db4_ppac0_sum, foi]   \n",
       "db5_ppac01_sum        *  [db5_ppac0_sum, db5_ppac1_sum]   \n",
       "db5_ppac01_sum_foi    *           [db5_ppac01_sum, foi]   \n",
       "db5_ppac0_sum         c                             NaN   \n",
       "db5_ppac1_sum         c                             NaN   \n",
       "foi                   c                             NaN   \n",
       "\n",
       "                                                      Parameters  \\\n",
       "Name                                                               \n",
       "db1_ppac01_sum                                               NaN   \n",
       "db1_ppac01_sum_foi                                           NaN   \n",
       "db1_ppac0_sum       [aris.db1.ppac0.sumyc, aris.db1.ppac0.sumxc]   \n",
       "db1_ppac1_sum       [aris.db1.ppac1.sumyc, aris.db1.ppac1.sumxc]   \n",
       "db3_ppac01_sum                                               NaN   \n",
       "db3_ppac01_sum_foi                                           NaN   \n",
       "db3_ppac0_sum       [aris.db3.ppac0.sumyc, aris.db3.ppac0.sumxc]   \n",
       "db3_ppac1_sum       [aris.db3.ppac1.sumyc, aris.db3.ppac1.sumxc]   \n",
       "db4_ppac0_sum       [aris.db4.ppac0.sumyc, aris.db4.ppac0.sumxc]   \n",
       "db4_ppac0_sum_foi                                            NaN   \n",
       "db5_ppac01_sum                                               NaN   \n",
       "db5_ppac01_sum_foi                                           NaN   \n",
       "db5_ppac0_sum       [aris.db5.ppac0.sumyc, aris.db5.ppac0.sumxc]   \n",
       "db5_ppac1_sum       [aris.db5.ppac1.sumyc, aris.db5.ppac1.sumxc]   \n",
       "foi                           [aris.tof.tac.rf1, aris.db1.pin.e]   \n",
       "\n",
       "                                                               Points     Desc  \n",
       "Name                                                                            \n",
       "db1_ppac01_sum                                                    NaN      And  \n",
       "db1_ppac01_sum_foi                                                NaN      And  \n",
       "db1_ppac0_sum       [{'x': 2739.043945, 'y': 2697.76123}, {'x': 39...  Contour  \n",
       "db1_ppac1_sum       [{'x': 3947.068848, 'y': 3915.422852}, {'x': 3...  Contour  \n",
       "db3_ppac01_sum                                                    NaN      And  \n",
       "db3_ppac01_sum_foi                                                NaN      And  \n",
       "db3_ppac0_sum       [{'x': 3948.776367, 'y': 3957.711426}, {'x': 3...  Contour  \n",
       "db3_ppac1_sum       [{'x': 3917.188477, 'y': 3990.049805}, {'x': 2...  Contour  \n",
       "db4_ppac0_sum       [{'x': 3903.80249, 'y': 3966.417969}, {'x': 38...  Contour  \n",
       "db4_ppac0_sum_foi                                                 NaN      And  \n",
       "db5_ppac01_sum                                                    NaN      And  \n",
       "db5_ppac01_sum_foi                                                NaN      And  \n",
       "db5_ppac0_sum       [{'x': 2572.288574, 'y': 2591.942871}, {'x': 3...  Contour  \n",
       "db5_ppac1_sum       [{'x': 2671.169189, 'y': 2684.110107}, {'x': 2...  Contour  \n",
       "foi                 [{'x': 2301.09082, 'y': 2253.332275}, {'x': 22...  Contour  "
      ]
     },
     "execution_count": 7,
     "metadata": {},
     "output_type": "execute_result"
    }
   ],
   "source": [
    "client.list('gate')"
   ]
  },
  {
   "cell_type": "markdown",
   "metadata": {
    "slideshow": {
     "slide_type": "slide"
    }
   },
   "source": [
    "## Work with Spectrum\n",
    "\n",
    "``Spectrum`` is a dedicated class to encapsulate all the available information regarding one spectrum to a single entity, featuring convenient and useful APIs for info query and data pre-processing.\n",
    "\n",
    "* Self-introspection of a Spectrum object gives all the properties of a spectrum.\n",
    "* Integrated gate information if it is available.\n",
    "* Quick and powerful data visualization of a spectrum.\n",
    "* Statistical analyzed results as a table."
   ]
  },
  {
   "cell_type": "code",
   "execution_count": 8,
   "metadata": {
    "slideshow": {
     "slide_type": "subslide"
    }
   },
   "outputs": [],
   "source": [
    "from spectcl.client import Client"
   ]
  },
  {
   "cell_type": "code",
   "execution_count": 9,
   "metadata": {
    "slideshow": {
     "slide_type": "fragment"
    }
   },
   "outputs": [
    {
     "data": {
      "text/plain": [
       "[SpecTcl Client] to http://ctlrm-daq4:5400/spectcl"
      ]
     },
     "execution_count": 9,
     "metadata": {},
     "output_type": "execute_result"
    }
   ],
   "source": [
    "client = Client('http://ctlrm-daq4', port=5400)\n",
    "client"
   ]
  },
  {
   "cell_type": "code",
   "execution_count": 10,
   "metadata": {
    "slideshow": {
     "slide_type": "fragment"
    }
   },
   "outputs": [
    {
     "data": {
      "text/html": [
       "<div>\n",
       "<style scoped>\n",
       "    .dataframe tbody tr th:only-of-type {\n",
       "        vertical-align: middle;\n",
       "    }\n",
       "\n",
       "    .dataframe tbody tr th {\n",
       "        vertical-align: top;\n",
       "    }\n",
       "\n",
       "    .dataframe thead th {\n",
       "        text-align: right;\n",
       "    }\n",
       "</style>\n",
       "<table border=\"1\" class=\"dataframe\">\n",
       "  <thead>\n",
       "    <tr style=\"text-align: right;\">\n",
       "      <th></th>\n",
       "      <th>Type</th>\n",
       "      <th>Parameters</th>\n",
       "      <th>Axes</th>\n",
       "      <th>ChanType</th>\n",
       "      <th>Gate</th>\n",
       "      <th>ShowGate</th>\n",
       "    </tr>\n",
       "    <tr>\n",
       "      <th>Name</th>\n",
       "      <th></th>\n",
       "      <th></th>\n",
       "      <th></th>\n",
       "      <th></th>\n",
       "      <th></th>\n",
       "      <th></th>\n",
       "    </tr>\n",
       "  </thead>\n",
       "  <tbody>\n",
       "    <tr>\n",
       "      <th>pid::db1.pin.dE_vs_tof.tac.rf1</th>\n",
       "      <td>2</td>\n",
       "      <td>[aris.tof.tac.rf1, aris.db1.pin.dE]</td>\n",
       "      <td>[{'low': 0.0, 'high': 4000.0, 'bins': 1000}, {...</td>\n",
       "      <td>word</td>\n",
       "      <td>ungated</td>\n",
       "      <td>NaN</td>\n",
       "    </tr>\n",
       "    <tr>\n",
       "      <th>pid::db1.pin.e_vs_tof.tac.rf1</th>\n",
       "      <td>2</td>\n",
       "      <td>[aris.tof.tac.rf1, aris.db1.pin.e]</td>\n",
       "      <td>[{'low': 0.0, 'high': 4000.0, 'bins': 1000}, {...</td>\n",
       "      <td>word</td>\n",
       "      <td>ungated</td>\n",
       "      <td>foi</td>\n",
       "    </tr>\n",
       "    <tr>\n",
       "      <th>pid::db1.pin.e_vs_tof.tac.rf1!gated</th>\n",
       "      <td>2</td>\n",
       "      <td>[aris.tof.tac.rf1, aris.db1.pin.e]</td>\n",
       "      <td>[{'low': 0.0, 'high': 4000.0, 'bins': 1000}, {...</td>\n",
       "      <td>word</td>\n",
       "      <td>foi</td>\n",
       "      <td>foi</td>\n",
       "    </tr>\n",
       "    <tr>\n",
       "      <th>pid::db1.pin.e_vs_tof.tac.rf1_test</th>\n",
       "      <td>2</td>\n",
       "      <td>[aris.tof.tac.rf1, aris.db1.pin.e]</td>\n",
       "      <td>[{'low': 0.0, 'high': 4000.0, 'bins': 1000}, {...</td>\n",
       "      <td>word</td>\n",
       "      <td>ungated</td>\n",
       "      <td>foi</td>\n",
       "    </tr>\n",
       "    <tr>\n",
       "      <th>pid::db1.pin.e_vs_x</th>\n",
       "      <td>2</td>\n",
       "      <td>[aris.db1.x, aris.db1.pin.e]</td>\n",
       "      <td>[{'low': -50.0, 'high': 50.0, 'bins': 500}, {'...</td>\n",
       "      <td>word</td>\n",
       "      <td>db1_ppac01_sum</td>\n",
       "      <td>NaN</td>\n",
       "    </tr>\n",
       "    <tr>\n",
       "      <th>pid::db1.pin.e_vs_y</th>\n",
       "      <td>2</td>\n",
       "      <td>[aris.db1.y, aris.db1.pin.e]</td>\n",
       "      <td>[{'low': -50.0, 'high': 50.0, 'bins': 500}, {'...</td>\n",
       "      <td>word</td>\n",
       "      <td>db1_ppac01_sum</td>\n",
       "      <td>NaN</td>\n",
       "    </tr>\n",
       "    <tr>\n",
       "      <th>pidX::db5.pin.e_vs_db1.ppac0.x</th>\n",
       "      <td>2</td>\n",
       "      <td>[aris.db1.ppac0.x, aris.db5.pin.e]</td>\n",
       "      <td>[{'low': -50.0, 'high': 50.0, 'bins': 500}, {'...</td>\n",
       "      <td>long</td>\n",
       "      <td>db1_ppac01_sum</td>\n",
       "      <td>NaN</td>\n",
       "    </tr>\n",
       "    <tr>\n",
       "      <th>pidX::db5.pin.e_vs_db1.ppac0.y</th>\n",
       "      <td>2</td>\n",
       "      <td>[aris.db1.ppac0.y, aris.db5.pin.e]</td>\n",
       "      <td>[{'low': -50.0, 'high': 50.0, 'bins': 500}, {'...</td>\n",
       "      <td>long</td>\n",
       "      <td>db1_ppac01_sum</td>\n",
       "      <td>NaN</td>\n",
       "    </tr>\n",
       "    <tr>\n",
       "      <th>pidX::db5.pin.e_vs_db1.ppac1.x</th>\n",
       "      <td>2</td>\n",
       "      <td>[aris.db1.ppac1.x, aris.db5.pin.e]</td>\n",
       "      <td>[{'low': -50.0, 'high': 50.0, 'bins': 500}, {'...</td>\n",
       "      <td>long</td>\n",
       "      <td>db1_ppac01_sum</td>\n",
       "      <td>NaN</td>\n",
       "    </tr>\n",
       "    <tr>\n",
       "      <th>pidX::db5.pin.e_vs_db1.ppac1.y</th>\n",
       "      <td>2</td>\n",
       "      <td>[aris.db1.ppac1.y, aris.db5.pin.e]</td>\n",
       "      <td>[{'low': -50.0, 'high': 50.0, 'bins': 500}, {'...</td>\n",
       "      <td>long</td>\n",
       "      <td>db1_ppac01_sum</td>\n",
       "      <td>NaN</td>\n",
       "    </tr>\n",
       "  </tbody>\n",
       "</table>\n",
       "</div>"
      ],
      "text/plain": [
       "                                    Type                           Parameters  \\\n",
       "Name                                                                            \n",
       "pid::db1.pin.dE_vs_tof.tac.rf1         2  [aris.tof.tac.rf1, aris.db1.pin.dE]   \n",
       "pid::db1.pin.e_vs_tof.tac.rf1          2   [aris.tof.tac.rf1, aris.db1.pin.e]   \n",
       "pid::db1.pin.e_vs_tof.tac.rf1!gated    2   [aris.tof.tac.rf1, aris.db1.pin.e]   \n",
       "pid::db1.pin.e_vs_tof.tac.rf1_test     2   [aris.tof.tac.rf1, aris.db1.pin.e]   \n",
       "pid::db1.pin.e_vs_x                    2         [aris.db1.x, aris.db1.pin.e]   \n",
       "pid::db1.pin.e_vs_y                    2         [aris.db1.y, aris.db1.pin.e]   \n",
       "pidX::db5.pin.e_vs_db1.ppac0.x         2   [aris.db1.ppac0.x, aris.db5.pin.e]   \n",
       "pidX::db5.pin.e_vs_db1.ppac0.y         2   [aris.db1.ppac0.y, aris.db5.pin.e]   \n",
       "pidX::db5.pin.e_vs_db1.ppac1.x         2   [aris.db1.ppac1.x, aris.db5.pin.e]   \n",
       "pidX::db5.pin.e_vs_db1.ppac1.y         2   [aris.db1.ppac1.y, aris.db5.pin.e]   \n",
       "\n",
       "                                                                                  Axes  \\\n",
       "Name                                                                                     \n",
       "pid::db1.pin.dE_vs_tof.tac.rf1       [{'low': 0.0, 'high': 4000.0, 'bins': 1000}, {...   \n",
       "pid::db1.pin.e_vs_tof.tac.rf1        [{'low': 0.0, 'high': 4000.0, 'bins': 1000}, {...   \n",
       "pid::db1.pin.e_vs_tof.tac.rf1!gated  [{'low': 0.0, 'high': 4000.0, 'bins': 1000}, {...   \n",
       "pid::db1.pin.e_vs_tof.tac.rf1_test   [{'low': 0.0, 'high': 4000.0, 'bins': 1000}, {...   \n",
       "pid::db1.pin.e_vs_x                  [{'low': -50.0, 'high': 50.0, 'bins': 500}, {'...   \n",
       "pid::db1.pin.e_vs_y                  [{'low': -50.0, 'high': 50.0, 'bins': 500}, {'...   \n",
       "pidX::db5.pin.e_vs_db1.ppac0.x       [{'low': -50.0, 'high': 50.0, 'bins': 500}, {'...   \n",
       "pidX::db5.pin.e_vs_db1.ppac0.y       [{'low': -50.0, 'high': 50.0, 'bins': 500}, {'...   \n",
       "pidX::db5.pin.e_vs_db1.ppac1.x       [{'low': -50.0, 'high': 50.0, 'bins': 500}, {'...   \n",
       "pidX::db5.pin.e_vs_db1.ppac1.y       [{'low': -50.0, 'high': 50.0, 'bins': 500}, {'...   \n",
       "\n",
       "                                    ChanType            Gate ShowGate  \n",
       "Name                                                                   \n",
       "pid::db1.pin.dE_vs_tof.tac.rf1          word         ungated      NaN  \n",
       "pid::db1.pin.e_vs_tof.tac.rf1           word         ungated      foi  \n",
       "pid::db1.pin.e_vs_tof.tac.rf1!gated     word             foi      foi  \n",
       "pid::db1.pin.e_vs_tof.tac.rf1_test      word         ungated      foi  \n",
       "pid::db1.pin.e_vs_x                     word  db1_ppac01_sum      NaN  \n",
       "pid::db1.pin.e_vs_y                     word  db1_ppac01_sum      NaN  \n",
       "pidX::db5.pin.e_vs_db1.ppac0.x          long  db1_ppac01_sum      NaN  \n",
       "pidX::db5.pin.e_vs_db1.ppac0.y          long  db1_ppac01_sum      NaN  \n",
       "pidX::db5.pin.e_vs_db1.ppac1.x          long  db1_ppac01_sum      NaN  \n",
       "pidX::db5.pin.e_vs_db1.ppac1.y          long  db1_ppac01_sum      NaN  "
      ]
     },
     "execution_count": 10,
     "metadata": {},
     "output_type": "execute_result"
    }
   ],
   "source": [
    "# Filter, with the argument: filter\n",
    "client.list('spectrum', filter='pid*db1*')"
   ]
  },
  {
   "cell_type": "code",
   "execution_count": 11,
   "metadata": {
    "slideshow": {
     "slide_type": "subslide"
    }
   },
   "outputs": [
    {
     "data": {
      "text/html": [
       "<div>\n",
       "<style scoped>\n",
       "    .dataframe tbody tr th:only-of-type {\n",
       "        vertical-align: middle;\n",
       "    }\n",
       "\n",
       "    .dataframe tbody tr th {\n",
       "        vertical-align: top;\n",
       "    }\n",
       "\n",
       "    .dataframe thead th {\n",
       "        text-align: right;\n",
       "    }\n",
       "</style>\n",
       "<table border=\"1\" class=\"dataframe\">\n",
       "  <thead>\n",
       "    <tr style=\"text-align: right;\">\n",
       "      <th></th>\n",
       "      <th>Type</th>\n",
       "      <th>Parameters</th>\n",
       "      <th>Axes</th>\n",
       "      <th>ChanType</th>\n",
       "      <th>Gate</th>\n",
       "      <th>ShowGate</th>\n",
       "    </tr>\n",
       "    <tr>\n",
       "      <th>Name</th>\n",
       "      <th></th>\n",
       "      <th></th>\n",
       "      <th></th>\n",
       "      <th></th>\n",
       "      <th></th>\n",
       "      <th></th>\n",
       "    </tr>\n",
       "  </thead>\n",
       "  <tbody>\n",
       "    <tr>\n",
       "      <th>ctl::db1.ppac0.y_vs_x</th>\n",
       "      <td>2</td>\n",
       "      <td>[aris.db1.ppac0.x, aris.db1.ppac0.y]</td>\n",
       "      <td>[{'low': -75.0, 'high': 75.0, 'bins': 300}, {'...</td>\n",
       "      <td>long</td>\n",
       "      <td>db1_ppac0_sum</td>\n",
       "      <td>NaN</td>\n",
       "    </tr>\n",
       "    <tr>\n",
       "      <th>ctl::db1.ppac1.y_vs_x</th>\n",
       "      <td>2</td>\n",
       "      <td>[aris.db1.ppac1.x, aris.db1.ppac1.y]</td>\n",
       "      <td>[{'low': -75.0, 'high': 75.0, 'bins': 300}, {'...</td>\n",
       "      <td>long</td>\n",
       "      <td>db1_ppac1_sum</td>\n",
       "      <td>NaN</td>\n",
       "    </tr>\n",
       "    <tr>\n",
       "      <th>ctl::db3.ppac0.y_vs_x</th>\n",
       "      <td>2</td>\n",
       "      <td>[aris.db3.ppac0.x, aris.db3.ppac0.y]</td>\n",
       "      <td>[{'low': -125.0, 'high': 125.0, 'bins': 500}, ...</td>\n",
       "      <td>long</td>\n",
       "      <td>db3_ppac0_sum</td>\n",
       "      <td>NaN</td>\n",
       "    </tr>\n",
       "    <tr>\n",
       "      <th>ctl::db3.ppac1.y_vs_x</th>\n",
       "      <td>2</td>\n",
       "      <td>[aris.db3.ppac1.x, aris.db3.ppac1.y]</td>\n",
       "      <td>[{'low': -125.0, 'high': 125.0, 'bins': 500}, ...</td>\n",
       "      <td>long</td>\n",
       "      <td>db3_ppac1_sum</td>\n",
       "      <td>NaN</td>\n",
       "    </tr>\n",
       "    <tr>\n",
       "      <th>ctl::db4.ppac0.y_vs_x</th>\n",
       "      <td>2</td>\n",
       "      <td>[aris.db4.ppac0.x, aris.db4.ppac0.y]</td>\n",
       "      <td>[{'low': -100.0, 'high': 100.0, 'bins': 1000},...</td>\n",
       "      <td>long</td>\n",
       "      <td>db4_ppac0_sum</td>\n",
       "      <td>NaN</td>\n",
       "    </tr>\n",
       "  </tbody>\n",
       "</table>\n",
       "</div>"
      ],
      "text/plain": [
       "                      Type                            Parameters  \\\n",
       "Name                                                               \n",
       "ctl::db1.ppac0.y_vs_x    2  [aris.db1.ppac0.x, aris.db1.ppac0.y]   \n",
       "ctl::db1.ppac1.y_vs_x    2  [aris.db1.ppac1.x, aris.db1.ppac1.y]   \n",
       "ctl::db3.ppac0.y_vs_x    2  [aris.db3.ppac0.x, aris.db3.ppac0.y]   \n",
       "ctl::db3.ppac1.y_vs_x    2  [aris.db3.ppac1.x, aris.db3.ppac1.y]   \n",
       "ctl::db4.ppac0.y_vs_x    2  [aris.db4.ppac0.x, aris.db4.ppac0.y]   \n",
       "\n",
       "                                                                    Axes  \\\n",
       "Name                                                                       \n",
       "ctl::db1.ppac0.y_vs_x  [{'low': -75.0, 'high': 75.0, 'bins': 300}, {'...   \n",
       "ctl::db1.ppac1.y_vs_x  [{'low': -75.0, 'high': 75.0, 'bins': 300}, {'...   \n",
       "ctl::db3.ppac0.y_vs_x  [{'low': -125.0, 'high': 125.0, 'bins': 500}, ...   \n",
       "ctl::db3.ppac1.y_vs_x  [{'low': -125.0, 'high': 125.0, 'bins': 500}, ...   \n",
       "ctl::db4.ppac0.y_vs_x  [{'low': -100.0, 'high': 100.0, 'bins': 1000},...   \n",
       "\n",
       "                      ChanType           Gate ShowGate  \n",
       "Name                                                    \n",
       "ctl::db1.ppac0.y_vs_x     long  db1_ppac0_sum      NaN  \n",
       "ctl::db1.ppac1.y_vs_x     long  db1_ppac1_sum      NaN  \n",
       "ctl::db3.ppac0.y_vs_x     long  db3_ppac0_sum      NaN  \n",
       "ctl::db3.ppac1.y_vs_x     long  db3_ppac1_sum      NaN  \n",
       "ctl::db4.ppac0.y_vs_x     long  db4_ppac0_sum      NaN  "
      ]
     },
     "execution_count": 11,
     "metadata": {},
     "output_type": "execute_result"
    }
   ],
   "source": [
    "# General filter with the DataFrame API\n",
    "a = client.list('spectrum')\n",
    "# list all gated spectra, .head() is used to reduce the length of output\n",
    "a[a['Gate'] != 'ungated'].head()"
   ]
  },
  {
   "cell_type": "code",
   "execution_count": 12,
   "metadata": {
    "slideshow": {
     "slide_type": "subslide"
    }
   },
   "outputs": [],
   "source": [
    "# Get data as a Spectrum instance\n",
    "sp1 = client.get_spectrum('pid::db1.pin.e_vs_tof.tac.rf1')\n",
    "sp2 = client.get_spectrum('pid::db1.pin.e_vs_tof.tac.rf1!gated')"
   ]
  },
  {
   "cell_type": "code",
   "execution_count": 13,
   "metadata": {
    "slideshow": {
     "slide_type": "fragment"
    }
   },
   "outputs": [
    {
     "data": {
      "text/html": [
       "<h4>Spectrum 'pid::db1.pin.e_vs_tof.tac.rf1': [2] parameters, [25576] entries.</h4><br><div>\n",
       "<style scoped>\n",
       "    .dataframe tbody tr th:only-of-type {\n",
       "        vertical-align: middle;\n",
       "    }\n",
       "\n",
       "    .dataframe tbody tr th {\n",
       "        vertical-align: top;\n",
       "    }\n",
       "\n",
       "    .dataframe thead th {\n",
       "        text-align: right;\n",
       "    }\n",
       "</style>\n",
       "<table border=\"1\" class=\"dataframe\">\n",
       "  <thead>\n",
       "    <tr style=\"text-align: right;\">\n",
       "      <th></th>\n",
       "      <th>x</th>\n",
       "      <th>y</th>\n",
       "      <th>count</th>\n",
       "      <th>aris.tof.tac.rf1</th>\n",
       "      <th>aris.db1.pin.e</th>\n",
       "    </tr>\n",
       "    <tr>\n",
       "      <th>id</th>\n",
       "      <th></th>\n",
       "      <th></th>\n",
       "      <th></th>\n",
       "      <th></th>\n",
       "      <th></th>\n",
       "    </tr>\n",
       "  </thead>\n",
       "  <tbody>\n",
       "    <tr>\n",
       "      <th>0</th>\n",
       "      <td>32</td>\n",
       "      <td>8</td>\n",
       "      <td>1</td>\n",
       "      <td>128.0</td>\n",
       "      <td>40.0</td>\n",
       "    </tr>\n",
       "    <tr>\n",
       "      <th>1</th>\n",
       "      <td>33</td>\n",
       "      <td>8</td>\n",
       "      <td>18</td>\n",
       "      <td>132.0</td>\n",
       "      <td>40.0</td>\n",
       "    </tr>\n",
       "    <tr>\n",
       "      <th>2</th>\n",
       "      <td>34</td>\n",
       "      <td>8</td>\n",
       "      <td>26</td>\n",
       "      <td>136.0</td>\n",
       "      <td>40.0</td>\n",
       "    </tr>\n",
       "    <tr>\n",
       "      <th>3</th>\n",
       "      <td>35</td>\n",
       "      <td>8</td>\n",
       "      <td>32</td>\n",
       "      <td>140.0</td>\n",
       "      <td>40.0</td>\n",
       "    </tr>\n",
       "    <tr>\n",
       "      <th>4</th>\n",
       "      <td>36</td>\n",
       "      <td>8</td>\n",
       "      <td>29</td>\n",
       "      <td>144.0</td>\n",
       "      <td>40.0</td>\n",
       "    </tr>\n",
       "    <tr>\n",
       "      <th>...</th>\n",
       "      <td>...</td>\n",
       "      <td>...</td>\n",
       "      <td>...</td>\n",
       "      <td>...</td>\n",
       "      <td>...</td>\n",
       "    </tr>\n",
       "    <tr>\n",
       "      <th>25571</th>\n",
       "      <td>585</td>\n",
       "      <td>801</td>\n",
       "      <td>2</td>\n",
       "      <td>2340.0</td>\n",
       "      <td>4005.0</td>\n",
       "    </tr>\n",
       "    <tr>\n",
       "      <th>25572</th>\n",
       "      <td>586</td>\n",
       "      <td>801</td>\n",
       "      <td>1</td>\n",
       "      <td>2344.0</td>\n",
       "      <td>4005.0</td>\n",
       "    </tr>\n",
       "    <tr>\n",
       "      <th>25573</th>\n",
       "      <td>588</td>\n",
       "      <td>801</td>\n",
       "      <td>2</td>\n",
       "      <td>2352.0</td>\n",
       "      <td>4005.0</td>\n",
       "    </tr>\n",
       "    <tr>\n",
       "      <th>25574</th>\n",
       "      <td>790</td>\n",
       "      <td>801</td>\n",
       "      <td>1</td>\n",
       "      <td>3160.0</td>\n",
       "      <td>4005.0</td>\n",
       "    </tr>\n",
       "    <tr>\n",
       "      <th>25575</th>\n",
       "      <td>818</td>\n",
       "      <td>801</td>\n",
       "      <td>1</td>\n",
       "      <td>3272.0</td>\n",
       "      <td>4005.0</td>\n",
       "    </tr>\n",
       "  </tbody>\n",
       "</table>\n",
       "<p>25576 rows × 5 columns</p>\n",
       "</div>"
      ],
      "text/plain": [
       "Spectrum 'pid::db1.pin.e_vs_tof.tac.rf1': [2] parameters, [25576] entries."
      ]
     },
     "execution_count": 13,
     "metadata": {},
     "output_type": "execute_result"
    }
   ],
   "source": [
    "sp1 # in Jupyter-notebook, the output will be rendered"
   ]
  },
  {
   "cell_type": "code",
   "execution_count": 14,
   "metadata": {
    "slideshow": {
     "slide_type": "subslide"
    }
   },
   "outputs": [
    {
     "data": {
      "text/plain": [
       "'pid::db1.pin.e_vs_tof.tac.rf1'"
      ]
     },
     "execution_count": 14,
     "metadata": {},
     "output_type": "execute_result"
    }
   ],
   "source": [
    "# Self-introspection: Spectrum name\n",
    "sp1.name"
   ]
  },
  {
   "cell_type": "code",
   "execution_count": 15,
   "metadata": {
    "slideshow": {
     "slide_type": "fragment"
    }
   },
   "outputs": [
    {
     "data": {
      "text/plain": [
       "dtype('int16')"
      ]
     },
     "execution_count": 15,
     "metadata": {},
     "output_type": "execute_result"
    }
   ],
   "source": [
    "# Data type\n",
    "sp1.dtype"
   ]
  },
  {
   "cell_type": "code",
   "execution_count": 16,
   "metadata": {
    "slideshow": {
     "slide_type": "fragment"
    }
   },
   "outputs": [
    {
     "data": {
      "text/plain": [
       "'2D'"
      ]
     },
     "execution_count": 16,
     "metadata": {},
     "output_type": "execute_result"
    }
   ],
   "source": [
    "# Spectrum type\n",
    "sp1.stype"
   ]
  },
  {
   "cell_type": "code",
   "execution_count": 17,
   "metadata": {
    "slideshow": {
     "slide_type": "fragment"
    }
   },
   "outputs": [
    {
     "data": {
      "text/plain": [
       "[{'low': 0.0, 'high': 4000.0, 'bins': 1000},\n",
       " {'low': 0.0, 'high': 4000.0, 'bins': 800}]"
      ]
     },
     "execution_count": 17,
     "metadata": {},
     "output_type": "execute_result"
    }
   ],
   "source": [
    "# Spectrum axes\n",
    "sp1.axes"
   ]
  },
  {
   "cell_type": "code",
   "execution_count": 18,
   "metadata": {
    "slideshow": {
     "slide_type": "fragment"
    }
   },
   "outputs": [
    {
     "data": {
      "text/plain": [
       "['aris.tof.tac.rf1', 'aris.db1.pin.e']"
      ]
     },
     "execution_count": 18,
     "metadata": {},
     "output_type": "execute_result"
    }
   ],
   "source": [
    "# Parameters\n",
    "sp1.parameters"
   ]
  },
  {
   "cell_type": "code",
   "execution_count": 19,
   "metadata": {
    "slideshow": {
     "slide_type": "subslide"
    }
   },
   "outputs": [
    {
     "name": "stdout",
     "output_type": "stream",
     "text": [
      "Spectrum 'pid::db1.pin.e_vs_tof.tac.rf1' is gated?  False\n",
      "Spectrum 'pid::db1.pin.e_vs_tof.tac.rf1!gated' is gated?  True\n"
     ]
    }
   ],
   "source": [
    "# Gated?\n",
    "print(f\"Spectrum '{sp1.name}' is gated? \", sp1.is_gated())\n",
    "print(f\"Spectrum '{sp2.name}' is gated? \", sp2.is_gated())"
   ]
  },
  {
   "cell_type": "code",
   "execution_count": 20,
   "metadata": {
    "slideshow": {
     "slide_type": "fragment"
    }
   },
   "outputs": [
    {
     "data": {
      "text/plain": [
       "Gate 'foi': 'Contour' on parameters ['aris.tof.tac.rf1', 'aris.db1.pin.e'] of (7) points"
      ]
     },
     "execution_count": 20,
     "metadata": {},
     "output_type": "execute_result"
    }
   ],
   "source": [
    "# Introspect the applied gate\n",
    "sp2.gate"
   ]
  },
  {
   "cell_type": "code",
   "execution_count": 21,
   "metadata": {
    "slideshow": {
     "slide_type": "fragment"
    }
   },
   "outputs": [
    {
     "data": {
      "text/plain": [
       "(Gate 'foi': 'Contour' on parameters ['aris.tof.tac.rf1', 'aris.db1.pin.e'] of (7) points,\n",
       " Gate 'foi': 'Contour' on parameters ['aris.tof.tac.rf1', 'aris.db1.pin.e'] of (7) points)"
      ]
     },
     "execution_count": 21,
     "metadata": {},
     "output_type": "execute_result"
    }
   ],
   "source": [
    "# Introspect the related gate: match the parameters\n",
    "# it will be drawing along with the spectrum plot if is not None\n",
    "sp1.show_gate, sp2.show_gate"
   ]
  },
  {
   "cell_type": "code",
   "execution_count": 22,
   "metadata": {
    "slideshow": {
     "slide_type": "subslide"
    }
   },
   "outputs": [
    {
     "data": {
      "text/plain": [
       "[{'x': 2301.09082, 'y': 2253.332275},\n",
       " {'x': 2270.935791, 'y': 2356.861084},\n",
       " {'x': 2166.602783, 'y': 2388.303223},\n",
       " {'x': 2092.035156, 'y': 2300.524902},\n",
       " {'x': 2153.287109, 'y': 2211.802734},\n",
       " {'x': 2255.817627, 'y': 2211.802734},\n",
       " {'x': 2255.817627, 'y': 2211.802734}]"
      ]
     },
     "execution_count": 22,
     "metadata": {},
     "output_type": "execute_result"
    }
   ],
   "source": [
    "# The points of the contour gate\n",
    "sp2.gate.points"
   ]
  },
  {
   "cell_type": "code",
   "execution_count": 23,
   "metadata": {
    "slideshow": {
     "slide_type": "subslide"
    }
   },
   "outputs": [
    {
     "data": {
      "image/png": "[encoded data removed]",
      "text/plain": [
       "<Figure size 640x480 with 1 Axes>"
      ]
     },
     "metadata": {},
     "output_type": "display_data"
    }
   ],
   "source": [
    "# See how it looks like\n",
    "import matplotlib.pyplot as plt\n",
    "fig, ax = plt.subplots()\n",
    "sp2.gate.draw(ax=ax)\n",
    "ax.autoscale()"
   ]
  },
  {
   "cell_type": "code",
   "execution_count": 24,
   "metadata": {
    "slideshow": {
     "slide_type": "subslide"
    }
   },
   "outputs": [
    {
     "data": {
      "text/plain": [
       "[array([  0,   1,   2,   3,   4,   5,   6,   7,   8,   9,  10,  11,  12,\n",
       "         13,  14,  15,  16,  17,  18,  19,  20,  21,  22,  23,  24,  25,\n",
       "         26,  27,  28,  29,  30,  31,  32,  33,  34,  35,  36,  37,  38,\n",
       "         39,  40,  41,  42,  43,  44,  45,  46,  47,  48,  49,  50,  51,\n",
       "         52,  53,  54,  55,  56,  57,  58,  59,  60,  61,  62,  63,  64,\n",
       "         65,  66,  67,  68,  69,  70,  71,  72,  73,  74,  75,  76,  77,\n",
       "         78,  79,  80,  81,  82,  83,  84,  85,  86,  87,  88,  89,  90,\n",
       "         91,  92,  93,  94,  95,  96,  97,  98,  99, 100, 101, 102, 103,\n",
       "        104, 105, 106, 107, 108, 109, 110, 111, 112, 113, 114, 115, 116,\n",
       "        117, 118, 119, 120, 121, 122, 123, 124, 125, 126, 127, 128, 129,\n",
       "        130, 131, 132, 133, 134, 135, 136, 137, 138, 139, 140, 141, 142,\n",
       "        143, 144, 145, 146, 147, 148, 149, 150, 151, 152, 153, 154, 155,\n",
       "        156, 157, 158, 159, 160, 161, 162, 163, 164, 165, 166, 167, 168,\n",
       "        169, 170, 171, 172, 173, 174, 175, 176, 177, 178, 179, 180, 181,\n",
       "        182, 183, 184, 185, 186, 187, 188, 189, 190, 191, 192, 193, 194,\n",
       "        195, 196, 197, 198, 199, 200, 201, 202, 203, 204, 205, 206, 207,\n",
       "        208, 209, 210, 211, 212, 213, 214, 215, 216, 217, 218, 219, 220,\n",
       "        221, 222, 223, 224, 225, 226, 227, 228, 229, 230, 231, 232, 233,\n",
       "        234, 235, 236, 237, 238, 239, 240, 241, 242, 243, 244, 245, 246,\n",
       "        247, 248, 249, 250, 251, 252, 253, 254, 255, 256, 257, 258, 259,\n",
       "        260, 261, 262, 263, 264, 265, 266, 267, 268, 269, 270, 271, 272,\n",
       "        273, 274, 275, 276, 277, 278, 279, 280, 281, 282, 283, 284, 285,\n",
       "        286, 287, 288, 289, 290, 291, 292, 293, 294, 295, 296, 297, 298,\n",
       "        299, 300, 301, 302, 303, 304, 305, 306, 307, 308, 309, 310, 311,\n",
       "        312, 313, 314, 315, 316, 317, 318, 319, 320, 321, 322, 323, 324,\n",
       "        325, 326, 327, 328, 329, 330, 331, 332, 333, 334, 335, 336, 337,\n",
       "        338, 339, 340, 341, 342, 343, 344, 345, 346, 347, 348, 349, 350,\n",
       "        351, 352, 353, 354, 355, 356, 357, 358, 359, 360, 361, 362, 363,\n",
       "        364, 365, 366, 367, 368, 369, 370, 371, 372, 373, 374, 375, 376,\n",
       "        377, 378, 379, 380, 381, 382, 383, 384, 385, 386, 387, 388, 389,\n",
       "        390, 391, 392, 393, 394, 395, 396, 397, 398, 399, 400, 401, 402,\n",
       "        403, 404, 405, 406, 407, 408, 409, 410, 411, 412, 413, 414, 415,\n",
       "        416, 417, 418, 419, 420, 421, 422, 423, 424, 425, 426, 427, 428,\n",
       "        429, 430, 431, 432, 433, 434, 435, 436, 437, 438, 439, 440, 441,\n",
       "        442, 443, 444, 445, 446, 447, 448, 449, 450, 451, 452, 453, 454,\n",
       "        455, 456, 457, 458, 459, 460, 461, 462, 463, 464, 465, 466, 467,\n",
       "        468, 469, 470, 471, 472, 473, 474, 475, 476, 477, 478, 479, 480,\n",
       "        481, 482, 483, 484, 485, 486, 487, 488, 489, 490, 491, 492, 493,\n",
       "        494, 495, 496, 497, 498, 499, 500, 501, 502, 503, 504, 505, 506,\n",
       "        507, 508, 509, 510, 511, 512, 513, 514, 515, 516, 517, 518, 519,\n",
       "        520, 521, 522, 523, 524, 525, 526, 527, 528, 529, 530, 531, 532,\n",
       "        533, 534, 535, 536, 537, 538, 539, 540, 541, 542, 543, 544, 545,\n",
       "        546, 547, 548, 549, 550, 551, 552, 553, 554, 555, 556, 557, 558,\n",
       "        559, 560, 561, 562, 563, 564, 565, 566, 567, 568, 569, 570, 571,\n",
       "        572, 573, 574, 575, 576, 577, 578, 579, 580, 581, 582, 583, 584,\n",
       "        585, 586, 587, 588, 589, 590, 591, 592, 593, 594, 595, 596, 597,\n",
       "        598, 599, 600, 601, 602, 603, 604, 605, 606, 607, 608, 609, 610,\n",
       "        611, 612, 613, 614, 615, 616, 617, 618, 619, 620, 621, 622, 623,\n",
       "        624, 625, 626, 627, 628, 629, 630, 631, 632, 633, 634, 635, 636,\n",
       "        637, 638, 639, 640, 641, 642, 643, 644, 645, 646, 647, 648, 649,\n",
       "        650, 651, 652, 653, 654, 655, 656, 657, 658, 659, 660, 661, 662,\n",
       "        663, 664, 665, 666, 667, 668, 669, 670, 671, 672, 673, 674, 675,\n",
       "        676, 677, 678, 679, 680, 681, 682, 683, 684, 685, 686, 687, 688,\n",
       "        689, 690, 691, 692, 693, 694, 695, 696, 697, 698, 699, 700, 701,\n",
       "        702, 703, 704, 705, 706, 707, 708, 709, 710, 711, 712, 713, 714,\n",
       "        715, 716, 717, 718, 719, 720, 721, 722, 723, 724, 725, 726, 727,\n",
       "        728, 729, 730, 731, 732, 733, 734, 735, 736, 737, 738, 739, 740,\n",
       "        741, 742, 743, 744, 745, 746, 747, 748, 749, 750, 751, 752, 753,\n",
       "        754, 755, 756, 757, 758, 759, 760, 761, 762, 763, 764, 765, 766,\n",
       "        767, 768, 769, 770, 771, 772, 773, 774, 775, 776, 777, 778, 779,\n",
       "        780, 781, 782, 783, 784, 785, 786, 787, 788, 789, 790, 791, 792,\n",
       "        793, 794, 795, 796, 797, 798, 799, 800, 801, 802, 803, 804, 805,\n",
       "        806, 807, 808, 809, 810, 811, 812, 813, 814, 815, 816, 817, 818,\n",
       "        819, 820, 821, 822, 823, 824, 825, 826, 827, 828, 829, 830, 831,\n",
       "        832, 833, 834, 835, 836, 837, 838, 839, 840, 841, 842, 843, 844,\n",
       "        845, 846, 847, 848, 849, 850, 851, 852, 853, 854, 855, 856, 857,\n",
       "        858, 859, 860, 861, 862, 863, 864, 865, 866, 867, 868, 869, 870,\n",
       "        871, 872, 873, 874, 875, 876, 877, 878, 879, 880, 881, 882, 883,\n",
       "        884, 885, 886, 887, 888, 889, 890, 891, 892, 893, 894, 895, 896,\n",
       "        897, 898, 899, 900, 901, 902, 903, 904, 905, 906, 907, 908, 909,\n",
       "        910]),\n",
       " array([  0,   1,   2,   3,   4,   5,   6,   7,   8,   9,  10,  11,  12,\n",
       "         13,  14,  15,  16,  17,  18,  19,  20,  21,  22,  23,  24,  25,\n",
       "         26,  27,  28,  29,  30,  31,  32,  33,  34,  35,  36,  37,  38,\n",
       "         39,  40,  41,  42,  43,  44,  45,  46,  47,  48,  49,  50,  51,\n",
       "         52,  53,  54,  55,  56,  57,  58,  59,  60,  61,  62,  63,  64,\n",
       "         65,  66,  67,  68,  69,  70,  71,  72,  73,  74,  75,  76,  77,\n",
       "         78,  79,  80,  81,  82,  83,  84,  85,  86,  87,  88,  89,  90,\n",
       "         91,  92,  93,  94,  95,  96,  97,  98,  99, 100, 101, 102, 103,\n",
       "        104, 105, 106, 107, 108, 109, 110, 111, 112, 113, 114, 115, 116,\n",
       "        117, 118, 119, 120, 121, 122, 123, 124, 125, 126, 127, 128, 129,\n",
       "        130, 131, 132, 133, 134, 135, 136, 137, 138, 139, 140, 141, 142,\n",
       "        143, 144, 145, 146, 147, 148, 149, 150, 151, 152, 153, 154, 155,\n",
       "        156, 157, 158, 159, 160, 161, 162, 163, 164, 165, 166, 167, 168,\n",
       "        169, 170, 171, 172, 173, 174, 175, 176, 177, 178, 179, 180, 181,\n",
       "        182, 183, 184, 185, 186, 187, 188, 189, 190, 191, 192, 193, 194,\n",
       "        195, 196, 197, 198, 199, 200, 201, 202, 203, 204, 205, 206, 207,\n",
       "        208, 209, 210, 211, 212, 213, 214, 215, 216, 217, 218, 219, 220,\n",
       "        221, 222, 223, 224, 225, 226, 227, 228, 229, 230, 231, 232, 233,\n",
       "        234, 235, 236, 237, 238, 239, 240, 241, 242, 243, 244, 245, 246,\n",
       "        247, 248, 249, 250, 251, 252, 253, 254, 255, 256, 257, 258, 259,\n",
       "        260, 261, 262, 263, 264, 265, 266, 267, 268, 269, 270, 271, 272,\n",
       "        273, 274, 275, 276, 277, 278, 279, 280, 281, 282, 283, 284, 285,\n",
       "        286, 287, 288, 289, 290, 291, 292, 293, 294, 295, 296, 297, 298,\n",
       "        299, 300, 301, 302, 303, 304, 305, 306, 307, 308, 309, 310, 311,\n",
       "        312, 313, 314, 315, 316, 317, 318, 319, 320, 321, 322, 323, 324,\n",
       "        325, 326, 327, 328, 329, 330, 331, 332, 333, 334, 335, 336, 337,\n",
       "        338, 339, 340, 341, 342, 343, 344, 345, 346, 347, 348, 349, 350,\n",
       "        351, 352, 353, 354, 355, 356, 357, 358, 359, 360, 361, 362, 363,\n",
       "        364, 365, 366, 367, 368, 369, 370, 371, 372, 373, 374, 375, 376,\n",
       "        377, 378, 379, 380, 381, 382, 383, 384, 385, 386, 387, 388, 389,\n",
       "        390, 391, 392, 393, 394, 395, 396, 397, 398, 399, 400, 401, 402,\n",
       "        403, 404, 405, 406, 407, 408, 409, 410, 411, 412, 413, 414, 415,\n",
       "        416, 417, 418, 419, 420, 421, 422, 423, 424, 425, 426, 427, 428,\n",
       "        429, 430, 431, 432, 433, 434, 435, 436, 437, 438, 439, 440, 441,\n",
       "        442, 443, 444, 445, 446, 447, 448, 449, 450, 451, 452, 453, 454,\n",
       "        455, 456, 457, 458, 459, 460, 461, 462, 463, 464, 465, 466, 467,\n",
       "        468, 469, 470, 471, 472, 473, 474, 475, 476, 477, 478, 479, 480,\n",
       "        481, 482, 483, 484, 485, 486, 487, 488, 489, 490, 491, 492, 493,\n",
       "        494, 495, 496, 497, 498, 499, 500, 501, 502, 503, 504, 505, 506,\n",
       "        507, 508, 509, 510, 511, 512, 513, 514, 515, 516, 517, 518, 519,\n",
       "        520, 521, 522, 523, 524, 525, 526, 527, 528, 529, 530, 531, 532,\n",
       "        533, 534, 535, 536, 537, 538, 539, 540, 541, 542, 543, 544, 545,\n",
       "        546, 547, 548, 549, 550, 551, 552, 553, 554, 555, 556, 557, 558,\n",
       "        559, 560, 561, 562, 563, 564, 565, 566, 567, 568, 569, 570, 571,\n",
       "        572, 573, 574, 575, 576, 577, 578, 579, 580, 581, 582, 583, 584,\n",
       "        585, 586, 587, 588, 589, 590, 591, 592, 593, 594, 595, 596, 597,\n",
       "        598, 599, 600, 601, 602, 603, 604, 605, 606, 607, 608, 609, 610,\n",
       "        611, 612, 613, 614, 615, 616, 617, 618, 619, 620, 621, 622, 623,\n",
       "        624, 625, 626, 627, 628, 629, 630, 631, 632, 633, 634, 635, 636,\n",
       "        637, 638, 639, 640, 641, 642, 643, 644, 645, 646, 647, 648, 649,\n",
       "        650, 651, 652, 653, 654, 655, 656, 657, 658, 659, 660, 661, 662,\n",
       "        663, 664, 665, 666, 667, 668, 669, 670, 671, 672, 673, 674, 675,\n",
       "        676, 677, 678, 679, 680, 681, 682, 683, 684, 685, 686, 687, 688,\n",
       "        689, 690, 691, 692, 693, 694, 695, 696, 697, 698, 699, 700, 701,\n",
       "        702, 703, 704, 705, 706, 707, 708, 709, 710, 711, 712, 713, 714,\n",
       "        715, 716, 717, 718, 719, 720, 721, 722, 723, 724, 725, 726, 727,\n",
       "        728, 729, 730, 731, 732, 733, 734, 735, 736, 737, 738, 739, 740,\n",
       "        741, 742, 743, 744, 745, 746, 747, 748, 749, 750, 751, 752, 753,\n",
       "        754, 755, 756, 757, 758, 759, 760, 761, 762, 763, 764, 765, 766,\n",
       "        767, 768, 769, 770, 771, 772, 773, 774, 775, 776, 777, 778, 779,\n",
       "        780, 781, 782, 783, 784, 785, 786, 787, 788, 789, 790, 791, 792,\n",
       "        793, 794, 795, 796, 797, 798, 799, 800, 801])]"
      ]
     },
     "execution_count": 24,
     "metadata": {},
     "output_type": "execute_result"
    }
   ],
   "source": [
    "# Get axes arraies in channel coordinate (not mapped), a list of two array for x, y axis\n",
    "sp1.get_axes_values(map=False)"
   ]
  },
  {
   "cell_type": "code",
   "execution_count": 25,
   "metadata": {
    "slideshow": {
     "slide_type": "subslide"
    }
   },
   "outputs": [
    {
     "data": {
      "text/plain": [
       "[array([   0.,    4.,    8.,   12.,   16.,   20.,   24.,   28.,   32.,\n",
       "          36.,   40.,   44.,   48.,   52.,   56.,   60.,   64.,   68.,\n",
       "          72.,   76.,   80.,   84.,   88.,   92.,   96.,  100.,  104.,\n",
       "         108.,  112.,  116.,  120.,  124.,  128.,  132.,  136.,  140.,\n",
       "         144.,  148.,  152.,  156.,  160.,  164.,  168.,  172.,  176.,\n",
       "         180.,  184.,  188.,  192.,  196.,  200.,  204.,  208.,  212.,\n",
       "         216.,  220.,  224.,  228.,  232.,  236.,  240.,  244.,  248.,\n",
       "         252.,  256.,  260.,  264.,  268.,  272.,  276.,  280.,  284.,\n",
       "         288.,  292.,  296.,  300.,  304.,  308.,  312.,  316.,  320.,\n",
       "         324.,  328.,  332.,  336.,  340.,  344.,  348.,  352.,  356.,\n",
       "         360.,  364.,  368.,  372.,  376.,  380.,  384.,  388.,  392.,\n",
       "         396.,  400.,  404.,  408.,  412.,  416.,  420.,  424.,  428.,\n",
       "         432.,  436.,  440.,  444.,  448.,  452.,  456.,  460.,  464.,\n",
       "         468.,  472.,  476.,  480.,  484.,  488.,  492.,  496.,  500.,\n",
       "         504.,  508.,  512.,  516.,  520.,  524.,  528.,  532.,  536.,\n",
       "         540.,  544.,  548.,  552.,  556.,  560.,  564.,  568.,  572.,\n",
       "         576.,  580.,  584.,  588.,  592.,  596.,  600.,  604.,  608.,\n",
       "         612.,  616.,  620.,  624.,  628.,  632.,  636.,  640.,  644.,\n",
       "         648.,  652.,  656.,  660.,  664.,  668.,  672.,  676.,  680.,\n",
       "         684.,  688.,  692.,  696.,  700.,  704.,  708.,  712.,  716.,\n",
       "         720.,  724.,  728.,  732.,  736.,  740.,  744.,  748.,  752.,\n",
       "         756.,  760.,  764.,  768.,  772.,  776.,  780.,  784.,  788.,\n",
       "         792.,  796.,  800.,  804.,  808.,  812.,  816.,  820.,  824.,\n",
       "         828.,  832.,  836.,  840.,  844.,  848.,  852.,  856.,  860.,\n",
       "         864.,  868.,  872.,  876.,  880.,  884.,  888.,  892.,  896.,\n",
       "         900.,  904.,  908.,  912.,  916.,  920.,  924.,  928.,  932.,\n",
       "         936.,  940.,  944.,  948.,  952.,  956.,  960.,  964.,  968.,\n",
       "         972.,  976.,  980.,  984.,  988.,  992.,  996., 1000., 1004.,\n",
       "        1008., 1012., 1016., 1020., 1024., 1028., 1032., 1036., 1040.,\n",
       "        1044., 1048., 1052., 1056., 1060., 1064., 1068., 1072., 1076.,\n",
       "        1080., 1084., 1088., 1092., 1096., 1100., 1104., 1108., 1112.,\n",
       "        1116., 1120., 1124., 1128., 1132., 1136., 1140., 1144., 1148.,\n",
       "        1152., 1156., 1160., 1164., 1168., 1172., 1176., 1180., 1184.,\n",
       "        1188., 1192., 1196., 1200., 1204., 1208., 1212., 1216., 1220.,\n",
       "        1224., 1228., 1232., 1236., 1240., 1244., 1248., 1252., 1256.,\n",
       "        1260., 1264., 1268., 1272., 1276., 1280., 1284., 1288., 1292.,\n",
       "        1296., 1300., 1304., 1308., 1312., 1316., 1320., 1324., 1328.,\n",
       "        1332., 1336., 1340., 1344., 1348., 1352., 1356., 1360., 1364.,\n",
       "        1368., 1372., 1376., 1380., 1384., 1388., 1392., 1396., 1400.,\n",
       "        1404., 1408., 1412., 1416., 1420., 1424., 1428., 1432., 1436.,\n",
       "        1440., 1444., 1448., 1452., 1456., 1460., 1464., 1468., 1472.,\n",
       "        1476., 1480., 1484., 1488., 1492., 1496., 1500., 1504., 1508.,\n",
       "        1512., 1516., 1520., 1524., 1528., 1532., 1536., 1540., 1544.,\n",
       "        1548., 1552., 1556., 1560., 1564., 1568., 1572., 1576., 1580.,\n",
       "        1584., 1588., 1592., 1596., 1600., 1604., 1608., 1612., 1616.,\n",
       "        1620., 1624., 1628., 1632., 1636., 1640., 1644., 1648., 1652.,\n",
       "        1656., 1660., 1664., 1668., 1672., 1676., 1680., 1684., 1688.,\n",
       "        1692., 1696., 1700., 1704., 1708., 1712., 1716., 1720., 1724.,\n",
       "        1728., 1732., 1736., 1740., 1744., 1748., 1752., 1756., 1760.,\n",
       "        1764., 1768., 1772., 1776., 1780., 1784., 1788., 1792., 1796.,\n",
       "        1800., 1804., 1808., 1812., 1816., 1820., 1824., 1828., 1832.,\n",
       "        1836., 1840., 1844., 1848., 1852., 1856., 1860., 1864., 1868.,\n",
       "        1872., 1876., 1880., 1884., 1888., 1892., 1896., 1900., 1904.,\n",
       "        1908., 1912., 1916., 1920., 1924., 1928., 1932., 1936., 1940.,\n",
       "        1944., 1948., 1952., 1956., 1960., 1964., 1968., 1972., 1976.,\n",
       "        1980., 1984., 1988., 1992., 1996., 2000., 2004., 2008., 2012.,\n",
       "        2016., 2020., 2024., 2028., 2032., 2036., 2040., 2044., 2048.,\n",
       "        2052., 2056., 2060., 2064., 2068., 2072., 2076., 2080., 2084.,\n",
       "        2088., 2092., 2096., 2100., 2104., 2108., 2112., 2116., 2120.,\n",
       "        2124., 2128., 2132., 2136., 2140., 2144., 2148., 2152., 2156.,\n",
       "        2160., 2164., 2168., 2172., 2176., 2180., 2184., 2188., 2192.,\n",
       "        2196., 2200., 2204., 2208., 2212., 2216., 2220., 2224., 2228.,\n",
       "        2232., 2236., 2240., 2244., 2248., 2252., 2256., 2260., 2264.,\n",
       "        2268., 2272., 2276., 2280., 2284., 2288., 2292., 2296., 2300.,\n",
       "        2304., 2308., 2312., 2316., 2320., 2324., 2328., 2332., 2336.,\n",
       "        2340., 2344., 2348., 2352., 2356., 2360., 2364., 2368., 2372.,\n",
       "        2376., 2380., 2384., 2388., 2392., 2396., 2400., 2404., 2408.,\n",
       "        2412., 2416., 2420., 2424., 2428., 2432., 2436., 2440., 2444.,\n",
       "        2448., 2452., 2456., 2460., 2464., 2468., 2472., 2476., 2480.,\n",
       "        2484., 2488., 2492., 2496., 2500., 2504., 2508., 2512., 2516.,\n",
       "        2520., 2524., 2528., 2532., 2536., 2540., 2544., 2548., 2552.,\n",
       "        2556., 2560., 2564., 2568., 2572., 2576., 2580., 2584., 2588.,\n",
       "        2592., 2596., 2600., 2604., 2608., 2612., 2616., 2620., 2624.,\n",
       "        2628., 2632., 2636., 2640., 2644., 2648., 2652., 2656., 2660.,\n",
       "        2664., 2668., 2672., 2676., 2680., 2684., 2688., 2692., 2696.,\n",
       "        2700., 2704., 2708., 2712., 2716., 2720., 2724., 2728., 2732.,\n",
       "        2736., 2740., 2744., 2748., 2752., 2756., 2760., 2764., 2768.,\n",
       "        2772., 2776., 2780., 2784., 2788., 2792., 2796., 2800., 2804.,\n",
       "        2808., 2812., 2816., 2820., 2824., 2828., 2832., 2836., 2840.,\n",
       "        2844., 2848., 2852., 2856., 2860., 2864., 2868., 2872., 2876.,\n",
       "        2880., 2884., 2888., 2892., 2896., 2900., 2904., 2908., 2912.,\n",
       "        2916., 2920., 2924., 2928., 2932., 2936., 2940., 2944., 2948.,\n",
       "        2952., 2956., 2960., 2964., 2968., 2972., 2976., 2980., 2984.,\n",
       "        2988., 2992., 2996., 3000., 3004., 3008., 3012., 3016., 3020.,\n",
       "        3024., 3028., 3032., 3036., 3040., 3044., 3048., 3052., 3056.,\n",
       "        3060., 3064., 3068., 3072., 3076., 3080., 3084., 3088., 3092.,\n",
       "        3096., 3100., 3104., 3108., 3112., 3116., 3120., 3124., 3128.,\n",
       "        3132., 3136., 3140., 3144., 3148., 3152., 3156., 3160., 3164.,\n",
       "        3168., 3172., 3176., 3180., 3184., 3188., 3192., 3196., 3200.,\n",
       "        3204., 3208., 3212., 3216., 3220., 3224., 3228., 3232., 3236.,\n",
       "        3240., 3244., 3248., 3252., 3256., 3260., 3264., 3268., 3272.,\n",
       "        3276., 3280., 3284., 3288., 3292., 3296., 3300., 3304., 3308.,\n",
       "        3312., 3316., 3320., 3324., 3328., 3332., 3336., 3340., 3344.,\n",
       "        3348., 3352., 3356., 3360., 3364., 3368., 3372., 3376., 3380.,\n",
       "        3384., 3388., 3392., 3396., 3400., 3404., 3408., 3412., 3416.,\n",
       "        3420., 3424., 3428., 3432., 3436., 3440., 3444., 3448., 3452.,\n",
       "        3456., 3460., 3464., 3468., 3472., 3476., 3480., 3484., 3488.,\n",
       "        3492., 3496., 3500., 3504., 3508., 3512., 3516., 3520., 3524.,\n",
       "        3528., 3532., 3536., 3540., 3544., 3548., 3552., 3556., 3560.,\n",
       "        3564., 3568., 3572., 3576., 3580., 3584., 3588., 3592., 3596.,\n",
       "        3600., 3604., 3608., 3612., 3616., 3620., 3624., 3628., 3632.,\n",
       "        3636., 3640.]),\n",
       " array([   0.,    5.,   10.,   15.,   20.,   25.,   30.,   35.,   40.,\n",
       "          45.,   50.,   55.,   60.,   65.,   70.,   75.,   80.,   85.,\n",
       "          90.,   95.,  100.,  105.,  110.,  115.,  120.,  125.,  130.,\n",
       "         135.,  140.,  145.,  150.,  155.,  160.,  165.,  170.,  175.,\n",
       "         180.,  185.,  190.,  195.,  200.,  205.,  210.,  215.,  220.,\n",
       "         225.,  230.,  235.,  240.,  245.,  250.,  255.,  260.,  265.,\n",
       "         270.,  275.,  280.,  285.,  290.,  295.,  300.,  305.,  310.,\n",
       "         315.,  320.,  325.,  330.,  335.,  340.,  345.,  350.,  355.,\n",
       "         360.,  365.,  370.,  375.,  380.,  385.,  390.,  395.,  400.,\n",
       "         405.,  410.,  415.,  420.,  425.,  430.,  435.,  440.,  445.,\n",
       "         450.,  455.,  460.,  465.,  470.,  475.,  480.,  485.,  490.,\n",
       "         495.,  500.,  505.,  510.,  515.,  520.,  525.,  530.,  535.,\n",
       "         540.,  545.,  550.,  555.,  560.,  565.,  570.,  575.,  580.,\n",
       "         585.,  590.,  595.,  600.,  605.,  610.,  615.,  620.,  625.,\n",
       "         630.,  635.,  640.,  645.,  650.,  655.,  660.,  665.,  670.,\n",
       "         675.,  680.,  685.,  690.,  695.,  700.,  705.,  710.,  715.,\n",
       "         720.,  725.,  730.,  735.,  740.,  745.,  750.,  755.,  760.,\n",
       "         765.,  770.,  775.,  780.,  785.,  790.,  795.,  800.,  805.,\n",
       "         810.,  815.,  820.,  825.,  830.,  835.,  840.,  845.,  850.,\n",
       "         855.,  860.,  865.,  870.,  875.,  880.,  885.,  890.,  895.,\n",
       "         900.,  905.,  910.,  915.,  920.,  925.,  930.,  935.,  940.,\n",
       "         945.,  950.,  955.,  960.,  965.,  970.,  975.,  980.,  985.,\n",
       "         990.,  995., 1000., 1005., 1010., 1015., 1020., 1025., 1030.,\n",
       "        1035., 1040., 1045., 1050., 1055., 1060., 1065., 1070., 1075.,\n",
       "        1080., 1085., 1090., 1095., 1100., 1105., 1110., 1115., 1120.,\n",
       "        1125., 1130., 1135., 1140., 1145., 1150., 1155., 1160., 1165.,\n",
       "        1170., 1175., 1180., 1185., 1190., 1195., 1200., 1205., 1210.,\n",
       "        1215., 1220., 1225., 1230., 1235., 1240., 1245., 1250., 1255.,\n",
       "        1260., 1265., 1270., 1275., 1280., 1285., 1290., 1295., 1300.,\n",
       "        1305., 1310., 1315., 1320., 1325., 1330., 1335., 1340., 1345.,\n",
       "        1350., 1355., 1360., 1365., 1370., 1375., 1380., 1385., 1390.,\n",
       "        1395., 1400., 1405., 1410., 1415., 1420., 1425., 1430., 1435.,\n",
       "        1440., 1445., 1450., 1455., 1460., 1465., 1470., 1475., 1480.,\n",
       "        1485., 1490., 1495., 1500., 1505., 1510., 1515., 1520., 1525.,\n",
       "        1530., 1535., 1540., 1545., 1550., 1555., 1560., 1565., 1570.,\n",
       "        1575., 1580., 1585., 1590., 1595., 1600., 1605., 1610., 1615.,\n",
       "        1620., 1625., 1630., 1635., 1640., 1645., 1650., 1655., 1660.,\n",
       "        1665., 1670., 1675., 1680., 1685., 1690., 1695., 1700., 1705.,\n",
       "        1710., 1715., 1720., 1725., 1730., 1735., 1740., 1745., 1750.,\n",
       "        1755., 1760., 1765., 1770., 1775., 1780., 1785., 1790., 1795.,\n",
       "        1800., 1805., 1810., 1815., 1820., 1825., 1830., 1835., 1840.,\n",
       "        1845., 1850., 1855., 1860., 1865., 1870., 1875., 1880., 1885.,\n",
       "        1890., 1895., 1900., 1905., 1910., 1915., 1920., 1925., 1930.,\n",
       "        1935., 1940., 1945., 1950., 1955., 1960., 1965., 1970., 1975.,\n",
       "        1980., 1985., 1990., 1995., 2000., 2005., 2010., 2015., 2020.,\n",
       "        2025., 2030., 2035., 2040., 2045., 2050., 2055., 2060., 2065.,\n",
       "        2070., 2075., 2080., 2085., 2090., 2095., 2100., 2105., 2110.,\n",
       "        2115., 2120., 2125., 2130., 2135., 2140., 2145., 2150., 2155.,\n",
       "        2160., 2165., 2170., 2175., 2180., 2185., 2190., 2195., 2200.,\n",
       "        2205., 2210., 2215., 2220., 2225., 2230., 2235., 2240., 2245.,\n",
       "        2250., 2255., 2260., 2265., 2270., 2275., 2280., 2285., 2290.,\n",
       "        2295., 2300., 2305., 2310., 2315., 2320., 2325., 2330., 2335.,\n",
       "        2340., 2345., 2350., 2355., 2360., 2365., 2370., 2375., 2380.,\n",
       "        2385., 2390., 2395., 2400., 2405., 2410., 2415., 2420., 2425.,\n",
       "        2430., 2435., 2440., 2445., 2450., 2455., 2460., 2465., 2470.,\n",
       "        2475., 2480., 2485., 2490., 2495., 2500., 2505., 2510., 2515.,\n",
       "        2520., 2525., 2530., 2535., 2540., 2545., 2550., 2555., 2560.,\n",
       "        2565., 2570., 2575., 2580., 2585., 2590., 2595., 2600., 2605.,\n",
       "        2610., 2615., 2620., 2625., 2630., 2635., 2640., 2645., 2650.,\n",
       "        2655., 2660., 2665., 2670., 2675., 2680., 2685., 2690., 2695.,\n",
       "        2700., 2705., 2710., 2715., 2720., 2725., 2730., 2735., 2740.,\n",
       "        2745., 2750., 2755., 2760., 2765., 2770., 2775., 2780., 2785.,\n",
       "        2790., 2795., 2800., 2805., 2810., 2815., 2820., 2825., 2830.,\n",
       "        2835., 2840., 2845., 2850., 2855., 2860., 2865., 2870., 2875.,\n",
       "        2880., 2885., 2890., 2895., 2900., 2905., 2910., 2915., 2920.,\n",
       "        2925., 2930., 2935., 2940., 2945., 2950., 2955., 2960., 2965.,\n",
       "        2970., 2975., 2980., 2985., 2990., 2995., 3000., 3005., 3010.,\n",
       "        3015., 3020., 3025., 3030., 3035., 3040., 3045., 3050., 3055.,\n",
       "        3060., 3065., 3070., 3075., 3080., 3085., 3090., 3095., 3100.,\n",
       "        3105., 3110., 3115., 3120., 3125., 3130., 3135., 3140., 3145.,\n",
       "        3150., 3155., 3160., 3165., 3170., 3175., 3180., 3185., 3190.,\n",
       "        3195., 3200., 3205., 3210., 3215., 3220., 3225., 3230., 3235.,\n",
       "        3240., 3245., 3250., 3255., 3260., 3265., 3270., 3275., 3280.,\n",
       "        3285., 3290., 3295., 3300., 3305., 3310., 3315., 3320., 3325.,\n",
       "        3330., 3335., 3340., 3345., 3350., 3355., 3360., 3365., 3370.,\n",
       "        3375., 3380., 3385., 3390., 3395., 3400., 3405., 3410., 3415.,\n",
       "        3420., 3425., 3430., 3435., 3440., 3445., 3450., 3455., 3460.,\n",
       "        3465., 3470., 3475., 3480., 3485., 3490., 3495., 3500., 3505.,\n",
       "        3510., 3515., 3520., 3525., 3530., 3535., 3540., 3545., 3550.,\n",
       "        3555., 3560., 3565., 3570., 3575., 3580., 3585., 3590., 3595.,\n",
       "        3600., 3605., 3610., 3615., 3620., 3625., 3630., 3635., 3640.,\n",
       "        3645., 3650., 3655., 3660., 3665., 3670., 3675., 3680., 3685.,\n",
       "        3690., 3695., 3700., 3705., 3710., 3715., 3720., 3725., 3730.,\n",
       "        3735., 3740., 3745., 3750., 3755., 3760., 3765., 3770., 3775.,\n",
       "        3780., 3785., 3790., 3795., 3800., 3805., 3810., 3815., 3820.,\n",
       "        3825., 3830., 3835., 3840., 3845., 3850., 3855., 3860., 3865.,\n",
       "        3870., 3875., 3880., 3885., 3890., 3895., 3900., 3905., 3910.,\n",
       "        3915., 3920., 3925., 3930., 3935., 3940., 3945., 3950., 3955.,\n",
       "        3960., 3965., 3970., 3975., 3980., 3985., 3990., 3995., 4000.,\n",
       "        4005.])]"
      ]
     },
     "execution_count": 25,
     "metadata": {},
     "output_type": "execute_result"
    }
   ],
   "source": [
    "# Get axes arraies in world coordinate (mapped)\n",
    "sp1.get_axes_values()"
   ]
  },
  {
   "cell_type": "code",
   "execution_count": 26,
   "metadata": {
    "slideshow": {
     "slide_type": "subslide"
    }
   },
   "outputs": [
    {
     "data": {
      "text/html": [
       "<div>\n",
       "<style scoped>\n",
       "    .dataframe tbody tr th:only-of-type {\n",
       "        vertical-align: middle;\n",
       "    }\n",
       "\n",
       "    .dataframe tbody tr th {\n",
       "        vertical-align: top;\n",
       "    }\n",
       "\n",
       "    .dataframe thead th {\n",
       "        text-align: right;\n",
       "    }\n",
       "</style>\n",
       "<table border=\"1\" class=\"dataframe\">\n",
       "  <thead>\n",
       "    <tr style=\"text-align: right;\">\n",
       "      <th></th>\n",
       "      <th>aris.tof.tac.rf1</th>\n",
       "      <th>aris.db1.pin.e</th>\n",
       "      <th>count</th>\n",
       "    </tr>\n",
       "    <tr>\n",
       "      <th>id</th>\n",
       "      <th></th>\n",
       "      <th></th>\n",
       "      <th></th>\n",
       "    </tr>\n",
       "  </thead>\n",
       "  <tbody>\n",
       "    <tr>\n",
       "      <th>0</th>\n",
       "      <td>128.0</td>\n",
       "      <td>40.0</td>\n",
       "      <td>1</td>\n",
       "    </tr>\n",
       "    <tr>\n",
       "      <th>1</th>\n",
       "      <td>132.0</td>\n",
       "      <td>40.0</td>\n",
       "      <td>18</td>\n",
       "    </tr>\n",
       "    <tr>\n",
       "      <th>2</th>\n",
       "      <td>136.0</td>\n",
       "      <td>40.0</td>\n",
       "      <td>26</td>\n",
       "    </tr>\n",
       "    <tr>\n",
       "      <th>3</th>\n",
       "      <td>140.0</td>\n",
       "      <td>40.0</td>\n",
       "      <td>32</td>\n",
       "    </tr>\n",
       "    <tr>\n",
       "      <th>4</th>\n",
       "      <td>144.0</td>\n",
       "      <td>40.0</td>\n",
       "      <td>29</td>\n",
       "    </tr>\n",
       "    <tr>\n",
       "      <th>...</th>\n",
       "      <td>...</td>\n",
       "      <td>...</td>\n",
       "      <td>...</td>\n",
       "    </tr>\n",
       "    <tr>\n",
       "      <th>25571</th>\n",
       "      <td>2340.0</td>\n",
       "      <td>4005.0</td>\n",
       "      <td>2</td>\n",
       "    </tr>\n",
       "    <tr>\n",
       "      <th>25572</th>\n",
       "      <td>2344.0</td>\n",
       "      <td>4005.0</td>\n",
       "      <td>1</td>\n",
       "    </tr>\n",
       "    <tr>\n",
       "      <th>25573</th>\n",
       "      <td>2352.0</td>\n",
       "      <td>4005.0</td>\n",
       "      <td>2</td>\n",
       "    </tr>\n",
       "    <tr>\n",
       "      <th>25574</th>\n",
       "      <td>3160.0</td>\n",
       "      <td>4005.0</td>\n",
       "      <td>1</td>\n",
       "    </tr>\n",
       "    <tr>\n",
       "      <th>25575</th>\n",
       "      <td>3272.0</td>\n",
       "      <td>4005.0</td>\n",
       "      <td>1</td>\n",
       "    </tr>\n",
       "  </tbody>\n",
       "</table>\n",
       "<p>25576 rows × 3 columns</p>\n",
       "</div>"
      ],
      "text/plain": [
       "       aris.tof.tac.rf1  aris.db1.pin.e  count\n",
       "id                                            \n",
       "0                 128.0            40.0      1\n",
       "1                 132.0            40.0     18\n",
       "2                 136.0            40.0     26\n",
       "3                 140.0            40.0     32\n",
       "4                 144.0            40.0     29\n",
       "...                 ...             ...    ...\n",
       "25571            2340.0          4005.0      2\n",
       "25572            2344.0          4005.0      1\n",
       "25573            2352.0          4005.0      2\n",
       "25574            3160.0          4005.0      1\n",
       "25575            3272.0          4005.0      1\n",
       "\n",
       "[25576 rows x 3 columns]"
      ]
     },
     "execution_count": 26,
     "metadata": {},
     "output_type": "execute_result"
    }
   ],
   "source": [
    "# Get spectrum data in world coordinate, a table of data with three columns\n",
    "sp1.get_data()"
   ]
  },
  {
   "cell_type": "code",
   "execution_count": 27,
   "metadata": {
    "slideshow": {
     "slide_type": "subslide"
    }
   },
   "outputs": [
    {
     "data": {
      "text/html": [
       "<div>\n",
       "<style scoped>\n",
       "    .dataframe tbody tr th:only-of-type {\n",
       "        vertical-align: middle;\n",
       "    }\n",
       "\n",
       "    .dataframe tbody tr th {\n",
       "        vertical-align: top;\n",
       "    }\n",
       "\n",
       "    .dataframe thead th {\n",
       "        text-align: right;\n",
       "    }\n",
       "</style>\n",
       "<table border=\"1\" class=\"dataframe\">\n",
       "  <thead>\n",
       "    <tr style=\"text-align: right;\">\n",
       "      <th></th>\n",
       "      <th>x</th>\n",
       "      <th>y</th>\n",
       "      <th>count</th>\n",
       "    </tr>\n",
       "    <tr>\n",
       "      <th>id</th>\n",
       "      <th></th>\n",
       "      <th></th>\n",
       "      <th></th>\n",
       "    </tr>\n",
       "  </thead>\n",
       "  <tbody>\n",
       "    <tr>\n",
       "      <th>0</th>\n",
       "      <td>32</td>\n",
       "      <td>8</td>\n",
       "      <td>1</td>\n",
       "    </tr>\n",
       "    <tr>\n",
       "      <th>1</th>\n",
       "      <td>33</td>\n",
       "      <td>8</td>\n",
       "      <td>18</td>\n",
       "    </tr>\n",
       "    <tr>\n",
       "      <th>2</th>\n",
       "      <td>34</td>\n",
       "      <td>8</td>\n",
       "      <td>26</td>\n",
       "    </tr>\n",
       "    <tr>\n",
       "      <th>3</th>\n",
       "      <td>35</td>\n",
       "      <td>8</td>\n",
       "      <td>32</td>\n",
       "    </tr>\n",
       "    <tr>\n",
       "      <th>4</th>\n",
       "      <td>36</td>\n",
       "      <td>8</td>\n",
       "      <td>29</td>\n",
       "    </tr>\n",
       "    <tr>\n",
       "      <th>...</th>\n",
       "      <td>...</td>\n",
       "      <td>...</td>\n",
       "      <td>...</td>\n",
       "    </tr>\n",
       "    <tr>\n",
       "      <th>25571</th>\n",
       "      <td>585</td>\n",
       "      <td>801</td>\n",
       "      <td>2</td>\n",
       "    </tr>\n",
       "    <tr>\n",
       "      <th>25572</th>\n",
       "      <td>586</td>\n",
       "      <td>801</td>\n",
       "      <td>1</td>\n",
       "    </tr>\n",
       "    <tr>\n",
       "      <th>25573</th>\n",
       "      <td>588</td>\n",
       "      <td>801</td>\n",
       "      <td>2</td>\n",
       "    </tr>\n",
       "    <tr>\n",
       "      <th>25574</th>\n",
       "      <td>790</td>\n",
       "      <td>801</td>\n",
       "      <td>1</td>\n",
       "    </tr>\n",
       "    <tr>\n",
       "      <th>25575</th>\n",
       "      <td>818</td>\n",
       "      <td>801</td>\n",
       "      <td>1</td>\n",
       "    </tr>\n",
       "  </tbody>\n",
       "</table>\n",
       "<p>25576 rows × 3 columns</p>\n",
       "</div>"
      ],
      "text/plain": [
       "         x    y  count\n",
       "id                    \n",
       "0       32    8      1\n",
       "1       33    8     18\n",
       "2       34    8     26\n",
       "3       35    8     32\n",
       "4       36    8     29\n",
       "...    ...  ...    ...\n",
       "25571  585  801      2\n",
       "25572  586  801      1\n",
       "25573  588  801      2\n",
       "25574  790  801      1\n",
       "25575  818  801      1\n",
       "\n",
       "[25576 rows x 3 columns]"
      ]
     },
     "execution_count": 27,
     "metadata": {},
     "output_type": "execute_result"
    }
   ],
   "source": [
    "# Get spectrum data in channel coordinate\n",
    "sp1.get_data(map=False)"
   ]
  },
  {
   "cell_type": "code",
   "execution_count": 28,
   "metadata": {
    "slideshow": {
     "slide_type": "subslide"
    }
   },
   "outputs": [
    {
     "data": {
      "image/png": "[encoded data removed]",
      "text/plain": [
       "<Figure size 800x600 with 4 Axes>"
      ]
     },
     "metadata": {},
     "output_type": "display_data"
    }
   ],
   "source": [
    "# Spectrum visualization\n",
    "sp1.plot(figsize=(8, 6));"
   ]
  },
  {
   "cell_type": "code",
   "execution_count": 29,
   "metadata": {
    "slideshow": {
     "slide_type": "subslide"
    }
   },
   "outputs": [
    {
     "data": {
      "image/png": "[encoded data removed]",
      "text/plain": [
       "<Figure size 800x600 with 4 Axes>"
      ]
     },
     "metadata": {},
     "output_type": "display_data"
    }
   ],
   "source": [
    "# Pass arguments\n",
    "sp2.plot(xlim=(2050, 2350), ylim=(2200, 2400), cmap='jet',\n",
    "         draw_gate_dict={'ls': '-', 'lw': 2, 'color': 'c'});"
   ]
  },
  {
   "cell_type": "code",
   "execution_count": 30,
   "metadata": {
    "slideshow": {
     "slide_type": "subslide"
    }
   },
   "outputs": [
    {
     "name": "stdout",
     "output_type": "stream",
     "text": [
      "Spectral type: 1D, Parameters: ['aris.db1.FSTD1.e']\n"
     ]
    },
    {
     "data": {
      "image/png": "[encoded data removed]",
      "text/plain": [
       "<Figure size 800x600 with 1 Axes>"
      ]
     },
     "metadata": {},
     "output_type": "display_data"
    }
   ],
   "source": [
    "# Get another 1D spectrum\n",
    "sp3 = client.get_spectrum('ctl::db1.FSTD1.e')\n",
    "print(f\"Spectral type: {sp3.stype}, Parameters: {sp3.parameters}\")\n",
    "sp3.plot(legend=False, lw=2);"
   ]
  },
  {
   "cell_type": "code",
   "execution_count": 31,
   "metadata": {
    "slideshow": {
     "slide_type": "subslide"
    }
   },
   "outputs": [
    {
     "name": "stdout",
     "output_type": "stream",
     "text": [
      "pid::db1.pin.e_vs_tof.tac.rf1\n"
     ]
    },
    {
     "data": {
      "text/html": [
       "<div>\n",
       "<style scoped>\n",
       "    .dataframe tbody tr th:only-of-type {\n",
       "        vertical-align: middle;\n",
       "    }\n",
       "\n",
       "    .dataframe tbody tr th {\n",
       "        vertical-align: top;\n",
       "    }\n",
       "\n",
       "    .dataframe thead th {\n",
       "        text-align: right;\n",
       "    }\n",
       "</style>\n",
       "<table border=\"1\" class=\"dataframe\">\n",
       "  <thead>\n",
       "    <tr style=\"text-align: right;\">\n",
       "      <th></th>\n",
       "      <th>Sum</th>\n",
       "      <th>Ratio</th>\n",
       "      <th>&lt;x&gt;</th>\n",
       "      <th>&lt;y&gt;</th>\n",
       "      <th>σx</th>\n",
       "      <th>σy</th>\n",
       "      <th>FWHMx</th>\n",
       "      <th>FWHMy</th>\n",
       "      <th>ρ</th>\n",
       "    </tr>\n",
       "  </thead>\n",
       "  <tbody>\n",
       "    <tr>\n",
       "      <th>All</th>\n",
       "      <td>180474</td>\n",
       "      <td>1.000000</td>\n",
       "      <td>1426.532376</td>\n",
       "      <td>2231.217294</td>\n",
       "      <td>978.909144</td>\n",
       "      <td>498.078178</td>\n",
       "      <td>2305.154874</td>\n",
       "      <td>1172.884478</td>\n",
       "      <td>-0.016905</td>\n",
       "    </tr>\n",
       "    <tr>\n",
       "      <th>foi</th>\n",
       "      <td>25320</td>\n",
       "      <td>0.140297</td>\n",
       "      <td>2202.031280</td>\n",
       "      <td>2277.514810</td>\n",
       "      <td>26.812254</td>\n",
       "      <td>29.956422</td>\n",
       "      <td>63.138033</td>\n",
       "      <td>70.541983</td>\n",
       "      <td>0.017896</td>\n",
       "    </tr>\n",
       "  </tbody>\n",
       "</table>\n",
       "</div>"
      ],
      "text/plain": [
       "        Sum     Ratio          <x>          <y>          σx          σy  \\\n",
       "All  180474  1.000000  1426.532376  2231.217294  978.909144  498.078178   \n",
       "foi   25320  0.140297  2202.031280  2277.514810   26.812254   29.956422   \n",
       "\n",
       "           FWHMx        FWHMy         ρ  \n",
       "All  2305.154874  1172.884478 -0.016905  \n",
       "foi    63.138033    70.541983  0.017896  "
      ]
     },
     "execution_count": 31,
     "metadata": {},
     "output_type": "execute_result"
    }
   ],
   "source": [
    "# Statistical report\n",
    "print(sp1.name)\n",
    "sp1.stats()"
   ]
  },
  {
   "cell_type": "code",
   "execution_count": 32,
   "metadata": {
    "slideshow": {
     "slide_type": "fragment"
    }
   },
   "outputs": [
    {
     "name": "stdout",
     "output_type": "stream",
     "text": [
      "pid::db1.pin.e_vs_tof.tac.rf1!gated\n"
     ]
    },
    {
     "data": {
      "text/html": [
       "<div>\n",
       "<style scoped>\n",
       "    .dataframe tbody tr th:only-of-type {\n",
       "        vertical-align: middle;\n",
       "    }\n",
       "\n",
       "    .dataframe tbody tr th {\n",
       "        vertical-align: top;\n",
       "    }\n",
       "\n",
       "    .dataframe thead th {\n",
       "        text-align: right;\n",
       "    }\n",
       "</style>\n",
       "<table border=\"1\" class=\"dataframe\">\n",
       "  <thead>\n",
       "    <tr style=\"text-align: right;\">\n",
       "      <th></th>\n",
       "      <th>Sum</th>\n",
       "      <th>Ratio</th>\n",
       "      <th>&lt;x&gt;</th>\n",
       "      <th>&lt;y&gt;</th>\n",
       "      <th>σx</th>\n",
       "      <th>σy</th>\n",
       "      <th>FWHMx</th>\n",
       "      <th>FWHMy</th>\n",
       "      <th>ρ</th>\n",
       "    </tr>\n",
       "  </thead>\n",
       "  <tbody>\n",
       "    <tr>\n",
       "      <th>All</th>\n",
       "      <td>25342</td>\n",
       "      <td>1.000000</td>\n",
       "      <td>2201.923763</td>\n",
       "      <td>2277.154329</td>\n",
       "      <td>26.778317</td>\n",
       "      <td>29.881523</td>\n",
       "      <td>63.058117</td>\n",
       "      <td>70.365610</td>\n",
       "      <td>0.016114</td>\n",
       "    </tr>\n",
       "    <tr>\n",
       "      <th>foi</th>\n",
       "      <td>25262</td>\n",
       "      <td>0.996843</td>\n",
       "      <td>2201.962315</td>\n",
       "      <td>2277.343441</td>\n",
       "      <td>26.733818</td>\n",
       "      <td>29.721425</td>\n",
       "      <td>62.953330</td>\n",
       "      <td>69.988607</td>\n",
       "      <td>0.015516</td>\n",
       "    </tr>\n",
       "  </tbody>\n",
       "</table>\n",
       "</div>"
      ],
      "text/plain": [
       "       Sum     Ratio          <x>          <y>         σx         σy  \\\n",
       "All  25342  1.000000  2201.923763  2277.154329  26.778317  29.881523   \n",
       "foi  25262  0.996843  2201.962315  2277.343441  26.733818  29.721425   \n",
       "\n",
       "         FWHMx      FWHMy         ρ  \n",
       "All  63.058117  70.365610  0.016114  \n",
       "foi  62.953330  69.988607  0.015516  "
      ]
     },
     "execution_count": 32,
     "metadata": {},
     "output_type": "execute_result"
    }
   ],
   "source": [
    "print(sp2.name)\n",
    "sp2.stats()"
   ]
  },
  {
   "cell_type": "code",
   "execution_count": 33,
   "metadata": {
    "slideshow": {
     "slide_type": "fragment"
    }
   },
   "outputs": [
    {
     "name": "stdout",
     "output_type": "stream",
     "text": [
      "ctl::db1.FSTD1.e\n"
     ]
    },
    {
     "data": {
      "text/html": [
       "<div>\n",
       "<style scoped>\n",
       "    .dataframe tbody tr th:only-of-type {\n",
       "        vertical-align: middle;\n",
       "    }\n",
       "\n",
       "    .dataframe tbody tr th {\n",
       "        vertical-align: top;\n",
       "    }\n",
       "\n",
       "    .dataframe thead th {\n",
       "        text-align: right;\n",
       "    }\n",
       "</style>\n",
       "<table border=\"1\" class=\"dataframe\">\n",
       "  <thead>\n",
       "    <tr style=\"text-align: right;\">\n",
       "      <th></th>\n",
       "      <th>Sum</th>\n",
       "      <th>Ratio</th>\n",
       "      <th>&lt;x&gt;</th>\n",
       "      <th>σx</th>\n",
       "      <th>FWHM</th>\n",
       "    </tr>\n",
       "  </thead>\n",
       "  <tbody>\n",
       "    <tr>\n",
       "      <th>All</th>\n",
       "      <td>174992</td>\n",
       "      <td>1.0</td>\n",
       "      <td>769.290219</td>\n",
       "      <td>250.773007</td>\n",
       "      <td>590.525303</td>\n",
       "    </tr>\n",
       "  </tbody>\n",
       "</table>\n",
       "</div>"
      ],
      "text/plain": [
       "        Sum  Ratio         <x>          σx        FWHM\n",
       "All  174992    1.0  769.290219  250.773007  590.525303"
      ]
     },
     "execution_count": 33,
     "metadata": {},
     "output_type": "execute_result"
    }
   ],
   "source": [
    "print(sp3.name)\n",
    "sp3.stats()"
   ]
  },
  {
   "cell_type": "markdown",
   "metadata": {
    "slideshow": {
     "slide_type": "skip"
    }
   },
   "source": [
    "### Create a new spectrum"
   ]
  },
  {
   "cell_type": "code",
   "execution_count": 34,
   "metadata": {
    "slideshow": {
     "slide_type": "skip"
    }
   },
   "outputs": [],
   "source": [
    "new_sp_conf = sp1.clone()\n",
    "new_sp_conf.name = f\"{sp1.name}_test\""
   ]
  },
  {
   "cell_type": "code",
   "execution_count": 35,
   "metadata": {
    "slideshow": {
     "slide_type": "skip"
    }
   },
   "outputs": [
    {
     "name": "stdout",
     "output_type": "stream",
     "text": [
      "The spectrum is already defined, please give a different name.\n"
     ]
    }
   ],
   "source": [
    "new_sp = client.add_spectrum(new_sp_conf)"
   ]
  },
  {
   "cell_type": "code",
   "execution_count": 36,
   "metadata": {
    "slideshow": {
     "slide_type": "skip"
    }
   },
   "outputs": [],
   "source": [
    "new_sp"
   ]
  },
  {
   "cell_type": "code",
   "execution_count": 37,
   "metadata": {
    "slideshow": {
     "slide_type": "skip"
    }
   },
   "outputs": [],
   "source": [
    "# reload data to see the new "
   ]
  },
  {
   "cell_type": "markdown",
   "metadata": {
    "slideshow": {
     "slide_type": "skip"
    }
   },
   "source": [
    "### Gate application"
   ]
  },
  {
   "cell_type": "code",
   "execution_count": 38,
   "metadata": {
    "slideshow": {
     "slide_type": "skip"
    }
   },
   "outputs": [
    {
     "data": {
      "text/plain": [
       "Gate 'foi': 'Contour' on parameters ['aris.tof.tac.rf1', 'aris.db1.pin.e'] of (7) points"
      ]
     },
     "execution_count": 38,
     "metadata": {},
     "output_type": "execute_result"
    }
   ],
   "source": [
    "foi_gate = client.get_gate('foi')\n",
    "foi_gate"
   ]
  },
  {
   "cell_type": "code",
   "execution_count": 39,
   "metadata": {
    "slideshow": {
     "slide_type": "skip"
    }
   },
   "outputs": [
    {
     "data": {
      "text/plain": [
       "False"
      ]
     },
     "execution_count": 39,
     "metadata": {},
     "output_type": "execute_result"
    }
   ],
   "source": [
    "sp1.is_gated()"
   ]
  },
  {
   "cell_type": "code",
   "execution_count": null,
   "metadata": {
    "slideshow": {
     "slide_type": "skip"
    }
   },
   "outputs": [],
   "source": []
  },
  {
   "cell_type": "code",
   "execution_count": 40,
   "metadata": {
    "slideshow": {
     "slide_type": "skip"
    }
   },
   "outputs": [],
   "source": [
    "# Set gate\n",
    "#sp3.gate = 'FPslits'"
   ]
  },
  {
   "cell_type": "code",
   "execution_count": 41,
   "metadata": {
    "slideshow": {
     "slide_type": "skip"
    }
   },
   "outputs": [],
   "source": [
    "#sp3.gate"
   ]
  },
  {
   "cell_type": "code",
   "execution_count": 42,
   "metadata": {
    "slideshow": {
     "slide_type": "skip"
    }
   },
   "outputs": [],
   "source": [
    "#client.list('spectrum', filter='pid::fp.pin.dE_vs_tof.rf1*')"
   ]
  },
  {
   "cell_type": "markdown",
   "metadata": {
    "slideshow": {
     "slide_type": "skip"
    }
   },
   "source": [
    "## Interface to Allison-scanner app\n",
    "\n",
    "Pre-processing the 2D spectrum of transverse phase space, i.e. `x` vs `x'`(`a`) or `y` vs `y'`(`b`), to interface the data with Allison-scanner app for emittance and Twiss parameter calculation.\n",
    "\n",
    "Note:\n",
    "* Fake voltage info is generated from x'.\n",
    "* Ion species info is only used for mapping voltage to x' domain.\n",
    "* Calculate normalized emittance from geometry emittance with given particle energy."
   ]
  },
  {
   "cell_type": "code",
   "execution_count": 43,
   "metadata": {
    "slideshow": {
     "slide_type": "skip"
    }
   },
   "outputs": [],
   "source": [
    "#from spectcl.contrib import export_spectrum_for_allison"
   ]
  },
  {
   "cell_type": "code",
   "execution_count": 44,
   "metadata": {
    "slideshow": {
     "slide_type": "skip"
    }
   },
   "outputs": [],
   "source": [
    "#sp = data_client.get_spectrum('trk::fp.a_vs_x')"
   ]
  },
  {
   "cell_type": "code",
   "execution_count": 45,
   "metadata": {
    "slideshow": {
     "slide_type": "skip"
    }
   },
   "outputs": [],
   "source": [
    "#export_spectrum_for_allison('test.json', sp)\n",
    "# Load the file into Allison Scanner app."
   ]
  },
  {
   "cell_type": "markdown",
   "metadata": {
    "slideshow": {
     "slide_type": "skip"
    }
   },
   "source": [
    "Normalized emittance is not reflecting the real data.\n",
    "<img src=\"as-results.png\" width=\"800\" />"
   ]
  },
  {
   "cell_type": "markdown",
   "metadata": {
    "slideshow": {
     "slide_type": "skip"
    }
   },
   "source": [
    "### Create another client hooking to another SpecTcl server"
   ]
  },
  {
   "cell_type": "code",
   "execution_count": 46,
   "metadata": {
    "slideshow": {
     "slide_type": "skip"
    }
   },
   "outputs": [],
   "source": [
    "#client1 = DataClient(port=8001)\n",
    "#client1"
   ]
  },
  {
   "cell_type": "code",
   "execution_count": 47,
   "metadata": {
    "slideshow": {
     "slide_type": "skip"
    }
   },
   "outputs": [],
   "source": [
    "#spec_name = 'pid::fp.pin.dE_vs_tof.rf2'\n",
    "#sp2 = client1.get_spectrum(spec_name)"
   ]
  },
  {
   "cell_type": "code",
   "execution_count": 48,
   "metadata": {
    "slideshow": {
     "slide_type": "skip"
    }
   },
   "outputs": [],
   "source": [
    "#sp2.plot(s=3, fontsize=14)"
   ]
  },
  {
   "cell_type": "markdown",
   "metadata": {
    "slideshow": {
     "slide_type": "skip"
    }
   },
   "source": [
    "### Advanced processing\n",
    "e.g. use existing clustering algorithms to auto-cluster isotops."
   ]
  },
  {
   "cell_type": "code",
   "execution_count": 49,
   "metadata": {
    "slideshow": {
     "slide_type": "skip"
    }
   },
   "outputs": [],
   "source": [
    "#from sklearn.mixture import BayesianGaussianMixture"
   ]
  },
  {
   "cell_type": "code",
   "execution_count": 50,
   "metadata": {
    "slideshow": {
     "slide_type": "skip"
    }
   },
   "outputs": [],
   "source": [
    "# from sklearn.mixture import BayesianGaussianMixture as BGMM\n",
    "# from matplotlib.patches import Ellipse\n",
    "# import matplotlib.pyplot as plt\n",
    "\n",
    "# def draw_ellipse(position, covariance, ax=None, **kwargs):\n",
    "#     \"\"\"Draw an ellipse with a given position and covariance\"\"\"\n",
    "#     ax = ax or plt.gca()\n",
    "    \n",
    "#     # Convert covariance to principal axes\n",
    "#     if covariance.shape == (2, 2):\n",
    "#         U, s, Vt = np.linalg.svd(covariance)\n",
    "#         angle = np.degrees(np.arctan2(U[1, 0], U[0, 0]))\n",
    "#         width, height = 2 * np.sqrt(s)\n",
    "#     else:\n",
    "#         angle = 0\n",
    "#         width, height = 2 * np.sqrt(covariance)\n",
    "    \n",
    "#     # Draw the Ellipse\n",
    "#     for nsig in range(1, 4):\n",
    "#         ax.add_patch(Ellipse(position, nsig * width, nsig * height,\n",
    "#                              angle, **kwargs))\n",
    "        \n",
    "# def plot_gmm(gmm, X, label=True, ax=None, cmap='viridis', ms=10, ellipse_on=False, equal_axis=False):\n",
    "#     ax = ax or plt.gca()\n",
    "#     labels = gmm.fit(X).predict(X)\n",
    "#     if label:\n",
    "#         ax.scatter(X[:, 0], X[:, 1], c=labels, s=ms, cmap=cmap, zorder=2)\n",
    "#     else:\n",
    "#         ax.scatter(X[:, 0], X[:, 1], s=ms, zorder=2)\n",
    "#     if equal_axis:\n",
    "#         ax.axis('equal')\n",
    "    \n",
    "#     if ellipse_on:\n",
    "#         w_factor = 0.2 / gmm.weights_.max()\n",
    "#         for pos, covar, w in zip(gmm.means_, gmm.covariances_, gmm.weights_):\n",
    "#             draw_ellipse(pos, covar, alpha=w * w_factor)\n",
    "\n",
    "# def cluster_fn(x_data_range, y_data_range, df, n_components, random_state=0, ms=5, cmap='jet', bayesian_on=True, covariance_type='full', **kws):\n",
    "#     xmin, xmax = x_data_range\n",
    "#     ymin, ymax = y_data_range\n",
    "#     df1 = df[(df.x < xmax) & (df.x > xmin) & (df.y < ymax) & (df.y > ymin)]\n",
    "#     X = np.vstack([df1.x.to_numpy(), df1.y.to_numpy()]).T\n",
    "#     if bayesian_on:\n",
    "#         gmm = BGMM(n_components=n_components, covariance_type=covariance_type, random_state=random_state, **kws)\n",
    "#     else:\n",
    "#         gmm = GMM(n_components=n_components, covariance_type=covariance_type, random_state=random_state, **kws)\n",
    "#     plot_gmm(gmm, X, ms=ms, cmap=cmap, ellipse_on=True)\n",
    "#     #plt.xlim(0, 400)\n",
    "#     #plt.ylim(0, 350)"
   ]
  },
  {
   "cell_type": "code",
   "execution_count": 51,
   "metadata": {
    "slideshow": {
     "slide_type": "skip"
    }
   },
   "outputs": [],
   "source": [
    "#data['x'] = data['a1900.tof.rf2']\n",
    "#data['y'] = data['a1900.fp.pin.dE']\n",
    "#data2 = data.loc[np.repeat(data.index.values, 5 * data['count'])]"
   ]
  },
  {
   "cell_type": "code",
   "execution_count": 52,
   "metadata": {
    "slideshow": {
     "slide_type": "skip"
    }
   },
   "outputs": [],
   "source": [
    "#cluster_fn([0, 400], [0, 350], data2, 100, random_state=43, bayesian_on=True, covariance_type='full', ms=5)"
   ]
  }
 ],
 "metadata": {
  "celltoolbar": "Slideshow",
  "kernelspec": {
   "display_name": "Python 3 (ipykernel)",
   "language": "python",
   "name": "python3"
  },
  "language_info": {
   "codemirror_mode": {
    "name": "ipython",
    "version": 3
   },
   "file_extension": ".py",
   "mimetype": "text/x-python",
   "name": "python",
   "nbconvert_exporter": "python",
   "pygments_lexer": "ipython3",
   "version": "3.7.3"
  }
 },
 "nbformat": 4,
 "nbformat_minor": 4
}
